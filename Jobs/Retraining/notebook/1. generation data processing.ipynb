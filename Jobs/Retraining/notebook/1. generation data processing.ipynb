{
 "cells": [
  {
   "cell_type": "markdown",
   "metadata": {},
   "source": [
    "#### Library"
   ]
  },
  {
   "cell_type": "code",
   "execution_count": 1,
   "metadata": {},
   "outputs": [],
   "source": [
    "import pandas as pd\n",
    "import numpy as np\n",
    "import seaborn as sns\n",
    "import matplotlib.pyplot as plt\n",
    "import glob"
   ]
  },
  {
   "cell_type": "markdown",
   "metadata": {},
   "source": [
    "#### Generation"
   ]
  },
  {
   "cell_type": "code",
   "execution_count": 3,
   "metadata": {},
   "outputs": [
    {
     "name": "stdout",
     "output_type": "stream",
     "text": [
      "(8347075, 12)\n"
     ]
    }
   ],
   "source": [
    "# Get list of all CSV files in the directory\n",
    "path = '/home/kevin/Downloads/BESS/data/large_files/Generation Data/'\n",
    "csv_files = glob.glob(path+'*.csv')\n",
    "\n",
    "# Load all CSV files into a list of dataframes\n",
    "dataframes = [pd.read_csv(file) for file in csv_files]\n",
    "\n",
    "# concatenate all dataframes into a single dataframe\n",
    "df = pd.concat(dataframes, axis=0)\n",
    "\n",
    "# convert to datetime\n",
    "df['Date (MPT)'] = pd.to_datetime(df['Date (MPT)'])\n",
    "\n",
    "print(df.shape)"
   ]
  },
  {
   "cell_type": "code",
   "execution_count": null,
   "metadata": {},
   "outputs": [],
   "source": [
    "wind_generation = df[(df['Fuel Type'] == 'WIND')]\n",
    "wind_generation = wind_generation.groupby('Date (MPT)')['Volume'].sum().reset_index()\n",
    "wind_generation.sort_values(by='Date (MPT)', inplace=True)\n",
    "# wind_generation[wind_generation['Date (MPT)'].dt.year == 2019].to_csv('/home/kevin/Downloads/BESS/Jobs/Retraining/data/raw/wind_generation_2019.csv')\n",
    "wind_generation.to_csv('/home/kevin/Downloads/BESS/Jobs/Retraining/data/raw/wind_generation.csv')"
   ]
  },
  {
   "cell_type": "code",
   "execution_count": null,
   "metadata": {},
   "outputs": [],
   "source": [
    "solar_generation = df[(df['Fuel Type'] == 'SOLAR')]\n",
    "solar_generation = solar_generation.groupby('Date (MPT)')['Volume'].sum().reset_index()\n",
    "solar_generation.sort_values(by='Date (MPT)', inplace=True)\n",
    "# solar_generation[solar_generation['Date (MPT)'].dt.year == 2019].to_csv('/home/kevin/Downloads/BESS/Jobs/Retraining/data/raw/solar_generation_2019.csv')\n",
    "solar_generation.to_csv('/home/kevin/Downloads/BESS/Jobs/Retraining/data/raw/solar_generation.csv')"
   ]
  }
 ],
 "metadata": {
  "kernelspec": {
   "display_name": "Python 3",
   "language": "python",
   "name": "python3"
  },
  "language_info": {
   "codemirror_mode": {
    "name": "ipython",
    "version": 3
   },
   "file_extension": ".py",
   "mimetype": "text/x-python",
   "name": "python",
   "nbconvert_exporter": "python",
   "pygments_lexer": "ipython3",
   "version": "3.8.10"
  }
 },
 "nbformat": 4,
 "nbformat_minor": 2
}
