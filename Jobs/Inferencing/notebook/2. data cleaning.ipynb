{
 "cells": [
  {
   "cell_type": "code",
   "execution_count": null,
   "id": "795ee18c",
   "metadata": {},
   "outputs": [],
   "source": [
    "# This notebook cleans the data and creates a new csv file with the cleaned data"
   ]
  },
  {
   "cell_type": "markdown",
   "id": "a6325e3e",
   "metadata": {},
   "source": [
    "#### Library"
   ]
  },
  {
   "cell_type": "code",
   "execution_count": 1,
   "id": "ca71fd06",
   "metadata": {},
   "outputs": [],
   "source": [
    "import pandas as pd\n",
    "# Set pandas options to display all rows and columns\n",
    "# pd.set_option('display.max_rows', None)\n",
    "# pd.set_option('display.max_columns', None)\n",
    "\n",
    "import numpy as np\n",
    "import seaborn as sns\n",
    "import matplotlib.pyplot as plt\n",
    "\n",
    "import warnings\n",
    "\n",
    "warnings.filterwarnings('ignore', category=pd.errors.PerformanceWarning)"
   ]
  },
  {
   "cell_type": "markdown",
   "id": "d2a4886b",
   "metadata": {},
   "source": [
    "#### Data Loading"
   ]
  },
  {
   "cell_type": "code",
   "execution_count": 4,
   "id": "e6322edf",
   "metadata": {},
   "outputs": [
    {
     "name": "stdout",
     "output_type": "stream",
     "text": [
      "Current working directory: /Users/kishanakbari/Downloads/BESS\n"
     ]
    }
   ],
   "source": [
    "import os\n",
    "\n",
    "# Change this to your absolute BESS path\n",
    "bess_path = '/Users/kishanakbari/Downloads/BESS'\n",
    "\n",
    "os.chdir(bess_path)\n",
    "print(\"Current working directory:\", os.getcwd())"
   ]
  },
  {
   "cell_type": "code",
   "execution_count": 5,
   "id": "ba732ad6",
   "metadata": {},
   "outputs": [],
   "source": [
    "df = pd.read_csv('Jobs/Inferencing/data/raw/merged_df.csv')"
   ]
  },
  {
   "cell_type": "markdown",
   "id": "b8c959b4",
   "metadata": {},
   "source": [
    "#### Data Cleaning"
   ]
  },
  {
   "cell_type": "code",
   "execution_count": 6,
   "id": "de0886a8",
   "metadata": {},
   "outputs": [
    {
     "data": {
      "text/plain": [
       "(24, 67)"
      ]
     },
     "execution_count": 6,
     "metadata": {},
     "output_type": "execute_result"
    }
   ],
   "source": [
    "df.shape"
   ]
  },
  {
   "cell_type": "code",
   "execution_count": 7,
   "id": "3d57159b",
   "metadata": {},
   "outputs": [
    {
     "data": {
      "text/html": [
       "<div>\n",
       "<style scoped>\n",
       "    .dataframe tbody tr th:only-of-type {\n",
       "        vertical-align: middle;\n",
       "    }\n",
       "\n",
       "    .dataframe tbody tr th {\n",
       "        vertical-align: top;\n",
       "    }\n",
       "\n",
       "    .dataframe thead th {\n",
       "        text-align: right;\n",
       "    }\n",
       "</style>\n",
       "<table border=\"1\" class=\"dataframe\">\n",
       "  <thead>\n",
       "    <tr style=\"text-align: right;\">\n",
       "      <th></th>\n",
       "      <th>datetime_</th>\n",
       "      <th>alberta_internal_load</th>\n",
       "      <th>forecast_pool_price</th>\n",
       "      <th>rolling_30day_avg_price</th>\n",
       "      <th>solar_generation</th>\n",
       "      <th>temp_calgary</th>\n",
       "      <th>temp_edmonton</th>\n",
       "      <th>temp_fortmc</th>\n",
       "      <th>wind_generation</th>\n",
       "      <th>ws_calgary</th>\n",
       "      <th>...</th>\n",
       "      <th>alberta_internal_load_lag_15</th>\n",
       "      <th>alberta_internal_load_lag_16</th>\n",
       "      <th>alberta_internal_load_lag_17</th>\n",
       "      <th>alberta_internal_load_lag_18</th>\n",
       "      <th>alberta_internal_load_lag_19</th>\n",
       "      <th>alberta_internal_load_lag_20</th>\n",
       "      <th>alberta_internal_load_lag_21</th>\n",
       "      <th>alberta_internal_load_lag_22</th>\n",
       "      <th>alberta_internal_load_lag_23</th>\n",
       "      <th>alberta_internal_load_lag_24</th>\n",
       "    </tr>\n",
       "  </thead>\n",
       "  <tbody>\n",
       "    <tr>\n",
       "      <th>0</th>\n",
       "      <td>2025-05-22 18:00:00</td>\n",
       "      <td>9557</td>\n",
       "      <td>17.33</td>\n",
       "      <td>34.79</td>\n",
       "      <td>674.91</td>\n",
       "      <td>15.2</td>\n",
       "      <td>13.7</td>\n",
       "      <td>15.9</td>\n",
       "      <td>556.21</td>\n",
       "      <td>11.4</td>\n",
       "      <td>...</td>\n",
       "      <td>8740.0</td>\n",
       "      <td>8762.0</td>\n",
       "      <td>8858.0</td>\n",
       "      <td>8977.0</td>\n",
       "      <td>9107.0</td>\n",
       "      <td>9465.0</td>\n",
       "      <td>9542.0</td>\n",
       "      <td>9679.0</td>\n",
       "      <td>9706.0</td>\n",
       "      <td>9723.0</td>\n",
       "    </tr>\n",
       "    <tr>\n",
       "      <th>1</th>\n",
       "      <td>2025-05-22 19:00:00</td>\n",
       "      <td>9468</td>\n",
       "      <td>61.49</td>\n",
       "      <td>34.82</td>\n",
       "      <td>332.73</td>\n",
       "      <td>15.0</td>\n",
       "      <td>14.3</td>\n",
       "      <td>15.8</td>\n",
       "      <td>763.26</td>\n",
       "      <td>11.2</td>\n",
       "      <td>...</td>\n",
       "      <td>8790.0</td>\n",
       "      <td>8740.0</td>\n",
       "      <td>8762.0</td>\n",
       "      <td>8858.0</td>\n",
       "      <td>8977.0</td>\n",
       "      <td>9107.0</td>\n",
       "      <td>9465.0</td>\n",
       "      <td>9542.0</td>\n",
       "      <td>9679.0</td>\n",
       "      <td>9706.0</td>\n",
       "    </tr>\n",
       "    <tr>\n",
       "      <th>2</th>\n",
       "      <td>2025-05-22 20:00:00</td>\n",
       "      <td>9395</td>\n",
       "      <td>178.85</td>\n",
       "      <td>35.02</td>\n",
       "      <td>82.63</td>\n",
       "      <td>14.7</td>\n",
       "      <td>13.8</td>\n",
       "      <td>15.3</td>\n",
       "      <td>993.18</td>\n",
       "      <td>8.0</td>\n",
       "      <td>...</td>\n",
       "      <td>8863.0</td>\n",
       "      <td>8790.0</td>\n",
       "      <td>8740.0</td>\n",
       "      <td>8762.0</td>\n",
       "      <td>8858.0</td>\n",
       "      <td>8977.0</td>\n",
       "      <td>9107.0</td>\n",
       "      <td>9465.0</td>\n",
       "      <td>9542.0</td>\n",
       "      <td>9679.0</td>\n",
       "    </tr>\n",
       "    <tr>\n",
       "      <th>3</th>\n",
       "      <td>2025-05-22 21:00:00</td>\n",
       "      <td>9380</td>\n",
       "      <td>171.78</td>\n",
       "      <td>35.21</td>\n",
       "      <td>2.17</td>\n",
       "      <td>13.5</td>\n",
       "      <td>12.5</td>\n",
       "      <td>13.8</td>\n",
       "      <td>1221.65</td>\n",
       "      <td>3.4</td>\n",
       "      <td>...</td>\n",
       "      <td>9085.0</td>\n",
       "      <td>8863.0</td>\n",
       "      <td>8790.0</td>\n",
       "      <td>8740.0</td>\n",
       "      <td>8762.0</td>\n",
       "      <td>8858.0</td>\n",
       "      <td>8977.0</td>\n",
       "      <td>9107.0</td>\n",
       "      <td>9465.0</td>\n",
       "      <td>9542.0</td>\n",
       "    </tr>\n",
       "    <tr>\n",
       "      <th>4</th>\n",
       "      <td>2025-05-22 22:00:00</td>\n",
       "      <td>9315</td>\n",
       "      <td>163.27</td>\n",
       "      <td>35.38</td>\n",
       "      <td>0.00</td>\n",
       "      <td>11.0</td>\n",
       "      <td>11.2</td>\n",
       "      <td>12.2</td>\n",
       "      <td>1407.34</td>\n",
       "      <td>10.1</td>\n",
       "      <td>...</td>\n",
       "      <td>9407.0</td>\n",
       "      <td>9085.0</td>\n",
       "      <td>8863.0</td>\n",
       "      <td>8790.0</td>\n",
       "      <td>8740.0</td>\n",
       "      <td>8762.0</td>\n",
       "      <td>8858.0</td>\n",
       "      <td>8977.0</td>\n",
       "      <td>9107.0</td>\n",
       "      <td>9465.0</td>\n",
       "    </tr>\n",
       "  </tbody>\n",
       "</table>\n",
       "<p>5 rows × 67 columns</p>\n",
       "</div>"
      ],
      "text/plain": [
       "             datetime_  alberta_internal_load  forecast_pool_price  \\\n",
       "0  2025-05-22 18:00:00                   9557                17.33   \n",
       "1  2025-05-22 19:00:00                   9468                61.49   \n",
       "2  2025-05-22 20:00:00                   9395               178.85   \n",
       "3  2025-05-22 21:00:00                   9380               171.78   \n",
       "4  2025-05-22 22:00:00                   9315               163.27   \n",
       "\n",
       "   rolling_30day_avg_price  solar_generation  temp_calgary  temp_edmonton  \\\n",
       "0                    34.79            674.91          15.2           13.7   \n",
       "1                    34.82            332.73          15.0           14.3   \n",
       "2                    35.02             82.63          14.7           13.8   \n",
       "3                    35.21              2.17          13.5           12.5   \n",
       "4                    35.38              0.00          11.0           11.2   \n",
       "\n",
       "   temp_fortmc  wind_generation  ws_calgary  ...  \\\n",
       "0         15.9           556.21        11.4  ...   \n",
       "1         15.8           763.26        11.2  ...   \n",
       "2         15.3           993.18         8.0  ...   \n",
       "3         13.8          1221.65         3.4  ...   \n",
       "4         12.2          1407.34        10.1  ...   \n",
       "\n",
       "   alberta_internal_load_lag_15  alberta_internal_load_lag_16  \\\n",
       "0                        8740.0                        8762.0   \n",
       "1                        8790.0                        8740.0   \n",
       "2                        8863.0                        8790.0   \n",
       "3                        9085.0                        8863.0   \n",
       "4                        9407.0                        9085.0   \n",
       "\n",
       "   alberta_internal_load_lag_17  alberta_internal_load_lag_18  \\\n",
       "0                        8858.0                        8977.0   \n",
       "1                        8762.0                        8858.0   \n",
       "2                        8740.0                        8762.0   \n",
       "3                        8790.0                        8740.0   \n",
       "4                        8863.0                        8790.0   \n",
       "\n",
       "   alberta_internal_load_lag_19  alberta_internal_load_lag_20  \\\n",
       "0                        9107.0                        9465.0   \n",
       "1                        8977.0                        9107.0   \n",
       "2                        8858.0                        8977.0   \n",
       "3                        8762.0                        8858.0   \n",
       "4                        8740.0                        8762.0   \n",
       "\n",
       "   alberta_internal_load_lag_21  alberta_internal_load_lag_22  \\\n",
       "0                        9542.0                        9679.0   \n",
       "1                        9465.0                        9542.0   \n",
       "2                        9107.0                        9465.0   \n",
       "3                        8977.0                        9107.0   \n",
       "4                        8858.0                        8977.0   \n",
       "\n",
       "   alberta_internal_load_lag_23  alberta_internal_load_lag_24  \n",
       "0                        9706.0                        9723.0  \n",
       "1                        9679.0                        9706.0  \n",
       "2                        9542.0                        9679.0  \n",
       "3                        9465.0                        9542.0  \n",
       "4                        9107.0                        9465.0  \n",
       "\n",
       "[5 rows x 67 columns]"
      ]
     },
     "execution_count": 7,
     "metadata": {},
     "output_type": "execute_result"
    }
   ],
   "source": [
    "df.head()"
   ]
  },
  {
   "cell_type": "code",
   "execution_count": 8,
   "id": "233109ba",
   "metadata": {},
   "outputs": [
    {
     "data": {
      "text/plain": [
       "datetime_                       0\n",
       "alberta_internal_load_lag_8     0\n",
       "pool_price_lag_18               0\n",
       "pool_price_lag_19               0\n",
       "pool_price_lag_20               0\n",
       "                               ..\n",
       "pool_price_lag_10               0\n",
       "pool_price_lag_11               0\n",
       "pool_price_lag_12               0\n",
       "pool_price_lag_13               0\n",
       "alberta_internal_load_lag_24    0\n",
       "Length: 67, dtype: int64"
      ]
     },
     "execution_count": 8,
     "metadata": {},
     "output_type": "execute_result"
    }
   ],
   "source": [
    "df.isnull().sum().sort_values(ascending=False)"
   ]
  },
  {
   "cell_type": "code",
   "execution_count": 9,
   "id": "ad032e9e",
   "metadata": {},
   "outputs": [
    {
     "name": "stdout",
     "output_type": "stream",
     "text": [
      "Index([], dtype='object')\n"
     ]
    }
   ],
   "source": [
    "# Filter columns that do not start with 'alberta' or 'pool'\n",
    "filtered_columns = [col for col in df.columns if not col.startswith('alberta_internal_load_') and not col.startswith('pool_price_')]\n",
    "\n",
    "# Select columns with more than 1 missing value\n",
    "columns_with_missing_values = df[filtered_columns].isnull().sum()\n",
    "columns_with_missing_values = columns_with_missing_values[columns_with_missing_values > 0]\n",
    "\n",
    "# Display the columns with more than 1 missing value\n",
    "print(columns_with_missing_values.index)"
   ]
  },
  {
   "cell_type": "code",
   "execution_count": 10,
   "id": "d8ca853c",
   "metadata": {},
   "outputs": [],
   "source": [
    "# # impute median for missing values\n",
    "\n",
    "# for col in columns_with_missing_values.index:\n",
    "#     df[col].fillna(df[col].median(), inplace=True)"
   ]
  },
  {
   "cell_type": "code",
   "execution_count": 11,
   "id": "b8e64731",
   "metadata": {},
   "outputs": [],
   "source": [
    "# # fill NAN with bfill method\n",
    "# lagged_columns = [f'pool_price_lag_{i}' for i in range(1, 25)] + [f'alberta_internal_load_lag_{i}' for i in range(1, 25)]\n",
    "\n",
    "# df[lagged_columns] = df[lagged_columns].fillna(method='bfill')\n",
    "# # Verify if NaN values are filled\n",
    "# print(df[lagged_columns].isnull().sum().sort_values(ascending=False))"
   ]
  },
  {
   "cell_type": "code",
   "execution_count": 12,
   "id": "39ebabca",
   "metadata": {},
   "outputs": [
    {
     "data": {
      "text/plain": [
       "datetime_                       0\n",
       "alberta_internal_load_lag_8     0\n",
       "pool_price_lag_18               0\n",
       "pool_price_lag_19               0\n",
       "pool_price_lag_20               0\n",
       "                               ..\n",
       "pool_price_lag_10               0\n",
       "pool_price_lag_11               0\n",
       "pool_price_lag_12               0\n",
       "pool_price_lag_13               0\n",
       "alberta_internal_load_lag_24    0\n",
       "Length: 67, dtype: int64"
      ]
     },
     "execution_count": 12,
     "metadata": {},
     "output_type": "execute_result"
    }
   ],
   "source": [
    "df.isnull().sum().sort_values(ascending=False)"
   ]
  },
  {
   "cell_type": "code",
   "execution_count": 13,
   "id": "9db7555b",
   "metadata": {},
   "outputs": [
    {
     "name": "stdout",
     "output_type": "stream",
     "text": [
      "2025-05-22 18:00:00 -------------------------to------------------------- 2025-05-23 17:00:00\n"
     ]
    }
   ],
   "source": [
    "df.drop('forecast_pool_price', axis=1, inplace=True)\n",
    "df.rename(columns={'alberta_internal_load': 'forecast_alberta_internal_load'}, inplace=True)\n",
    "print(df.datetime_.min(), '-------------------------to-------------------------', df.datetime_.max())"
   ]
  },
  {
   "cell_type": "markdown",
   "id": "7f33d784",
   "metadata": {
    "lines_to_next_cell": 2
   },
   "source": [
    "#### Save csv"
   ]
  },
  {
   "cell_type": "code",
   "execution_count": 14,
   "id": "0f438d9c",
   "metadata": {
    "lines_to_next_cell": 3
   },
   "outputs": [],
   "source": [
    "df.to_csv('Jobs/Inferencing/data/cleaned/merged_df_cleaned.csv', index=False)"
   ]
  }
 ],
 "metadata": {
  "jupytext": {
   "cell_metadata_filter": "-all",
   "main_language": "python",
   "notebook_metadata_filter": "-all"
  },
  "kernelspec": {
   "display_name": "Python 3",
   "language": "python",
   "name": "python3"
  },
  "language_info": {
   "codemirror_mode": {
    "name": "ipython",
    "version": 3
   },
   "file_extension": ".py",
   "mimetype": "text/x-python",
   "name": "python",
   "nbconvert_exporter": "python",
   "pygments_lexer": "ipython3",
   "version": "3.7.9"
  }
 },
 "nbformat": 4,
 "nbformat_minor": 5
}
