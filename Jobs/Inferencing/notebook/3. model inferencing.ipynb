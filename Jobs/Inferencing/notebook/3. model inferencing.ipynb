{
 "cells": [
  {
   "cell_type": "code",
   "execution_count": 1,
   "metadata": {},
   "outputs": [],
   "source": [
    "# This notebook do inference on a trained model\n",
    "\n",
    "# NVIDIA-SMI 535.183.01 \n",
    "# CUDA Version: 10.1\n",
    "# CUDNN Version: \n",
    "    #define CUDNN_MAJOR 7\n",
    "    #define CUDNN_MINOR 6\n",
    "    #define CUDNN_PATCHLEVEL 5\n",
    "# Tensorflow Version: 2.2.0\n",
    "# Python Version: 3.8.10"
   ]
  },
  {
   "cell_type": "markdown",
   "metadata": {},
   "source": [
    "#### Library"
   ]
  },
  {
   "cell_type": "code",
   "execution_count": 2,
   "metadata": {},
   "outputs": [],
   "source": [
    "import pandas as pd\n",
    "import numpy as np\n",
    "import seaborn as sns\n",
    "import matplotlib.pyplot as plt\n",
    "import tensorflow as tf\n",
    "from tensorflow.keras.layers import LSTM, Dense\n",
    "from sklearn.preprocessing import StandardScaler\n",
    "from sklearn.metrics import mean_squared_error, r2_score, mean_absolute_error\n",
    "\n",
    "# Set pandas to display all rows and columns\n",
    "pd.set_option('display.max_rows', None)\n",
    "pd.set_option('display.max_columns', None)\n",
    "\n",
    "# Suppress pandas performance warnings\n",
    "import warnings\n",
    "warnings.filterwarnings('ignore', category=pd.errors.PerformanceWarning)\n",
    "from datetime import datetime, timedelta\n",
    "import joblib"
   ]
  },
  {
   "cell_type": "code",
   "execution_count": 3,
   "metadata": {},
   "outputs": [
    {
     "name": "stdout",
     "output_type": "stream",
     "text": [
      "TensorFlow version: 2.2.0\n",
      "TensorFlow is using GPU: [PhysicalDevice(name='/physical_device:GPU:0', device_type='GPU')]\n"
     ]
    },
    {
     "name": "stderr",
     "output_type": "stream",
     "text": [
      "2025-03-20 16:43:34.374644: I tensorflow/stream_executor/platform/default/dso_loader.cc:44] Successfully opened dynamic library libcuda.so.1\n",
      "2025-03-20 16:43:34.421442: I tensorflow/stream_executor/cuda/cuda_gpu_executor.cc:981] successful NUMA node read from SysFS had negative value (-1), but there must be at least one NUMA node, so returning NUMA node zero\n",
      "2025-03-20 16:43:34.421759: I tensorflow/core/common_runtime/gpu/gpu_device.cc:1561] Found device 0 with properties: \n",
      "pciBusID: 0000:01:00.0 name: NVIDIA GeForce 940MX computeCapability: 5.0\n",
      "coreClock: 1.189GHz coreCount: 3 deviceMemorySize: 3.95GiB deviceMemoryBandwidth: 37.33GiB/s\n",
      "2025-03-20 16:43:34.422256: I tensorflow/stream_executor/platform/default/dso_loader.cc:44] Successfully opened dynamic library libcudart.so.10.1\n",
      "2025-03-20 16:43:34.430493: I tensorflow/stream_executor/platform/default/dso_loader.cc:44] Successfully opened dynamic library libcublas.so.10\n",
      "2025-03-20 16:43:34.433425: I tensorflow/stream_executor/platform/default/dso_loader.cc:44] Successfully opened dynamic library libcufft.so.10\n",
      "2025-03-20 16:43:34.434604: I tensorflow/stream_executor/platform/default/dso_loader.cc:44] Successfully opened dynamic library libcurand.so.10\n",
      "2025-03-20 16:43:34.438291: I tensorflow/stream_executor/platform/default/dso_loader.cc:44] Successfully opened dynamic library libcusolver.so.10\n",
      "2025-03-20 16:43:34.440452: I tensorflow/stream_executor/platform/default/dso_loader.cc:44] Successfully opened dynamic library libcusparse.so.10\n",
      "2025-03-20 16:43:34.450887: I tensorflow/stream_executor/platform/default/dso_loader.cc:44] Successfully opened dynamic library libcudnn.so.7\n",
      "2025-03-20 16:43:34.451314: I tensorflow/stream_executor/cuda/cuda_gpu_executor.cc:981] successful NUMA node read from SysFS had negative value (-1), but there must be at least one NUMA node, so returning NUMA node zero\n",
      "2025-03-20 16:43:34.451860: I tensorflow/stream_executor/cuda/cuda_gpu_executor.cc:981] successful NUMA node read from SysFS had negative value (-1), but there must be at least one NUMA node, so returning NUMA node zero\n",
      "2025-03-20 16:43:34.452096: I tensorflow/core/common_runtime/gpu/gpu_device.cc:1703] Adding visible gpu devices: 0\n"
     ]
    }
   ],
   "source": [
    "# check tf version\n",
    "print('TensorFlow version:', tf.__version__)\n",
    "\n",
    "#  Check if TensorFlow can access GPUs\n",
    "gpus = tf.config.list_physical_devices('GPU')\n",
    "if gpus:\n",
    "    print(f\"TensorFlow is using GPU: {gpus}\")\n",
    "else:\n",
    "    print(\"No GPU found, using CPU instead.\")"
   ]
  },
  {
   "cell_type": "markdown",
   "metadata": {},
   "source": [
    "#### Load Inference Data"
   ]
  },
  {
   "cell_type": "code",
   "execution_count": 4,
   "metadata": {},
   "outputs": [],
   "source": [
    "# load inference data\n",
    "inference_data = pd.read_csv('/home/kevin/Downloads/BESS/Jobs/Inferencing/data/raw/merged_df_cleaned.csv')"
   ]
  },
  {
   "cell_type": "markdown",
   "metadata": {},
   "source": [
    "#### Model Inferencing"
   ]
  },
  {
   "cell_type": "code",
   "execution_count": 5,
   "metadata": {},
   "outputs": [
    {
     "name": "stderr",
     "output_type": "stream",
     "text": [
      "2025-03-20 16:43:34.614507: I tensorflow/core/platform/cpu_feature_guard.cc:143] Your CPU supports instructions that this TensorFlow binary was not compiled to use: AVX2 FMA\n",
      "2025-03-20 16:43:34.653037: I tensorflow/core/platform/profile_utils/cpu_utils.cc:102] CPU Frequency: 2699905000 Hz\n",
      "2025-03-20 16:43:34.653605: I tensorflow/compiler/xla/service/service.cc:168] XLA service 0x7fdaec000b60 initialized for platform Host (this does not guarantee that XLA will be used). Devices:\n",
      "2025-03-20 16:43:34.653648: I tensorflow/compiler/xla/service/service.cc:176]   StreamExecutor device (0): Host, Default Version\n",
      "2025-03-20 16:43:34.721619: I tensorflow/stream_executor/cuda/cuda_gpu_executor.cc:981] successful NUMA node read from SysFS had negative value (-1), but there must be at least one NUMA node, so returning NUMA node zero\n",
      "2025-03-20 16:43:34.722010: I tensorflow/compiler/xla/service/service.cc:168] XLA service 0x38ec0e70 initialized for platform CUDA (this does not guarantee that XLA will be used). Devices:\n",
      "2025-03-20 16:43:34.722053: I tensorflow/compiler/xla/service/service.cc:176]   StreamExecutor device (0): NVIDIA GeForce 940MX, Compute Capability 5.0\n",
      "2025-03-20 16:43:34.722475: I tensorflow/stream_executor/cuda/cuda_gpu_executor.cc:981] successful NUMA node read from SysFS had negative value (-1), but there must be at least one NUMA node, so returning NUMA node zero\n",
      "2025-03-20 16:43:34.722778: I tensorflow/core/common_runtime/gpu/gpu_device.cc:1561] Found device 0 with properties: \n",
      "pciBusID: 0000:01:00.0 name: NVIDIA GeForce 940MX computeCapability: 5.0\n",
      "coreClock: 1.189GHz coreCount: 3 deviceMemorySize: 3.95GiB deviceMemoryBandwidth: 37.33GiB/s\n",
      "2025-03-20 16:43:34.722909: I tensorflow/stream_executor/platform/default/dso_loader.cc:44] Successfully opened dynamic library libcudart.so.10.1\n",
      "2025-03-20 16:43:34.722966: I tensorflow/stream_executor/platform/default/dso_loader.cc:44] Successfully opened dynamic library libcublas.so.10\n",
      "2025-03-20 16:43:34.723004: I tensorflow/stream_executor/platform/default/dso_loader.cc:44] Successfully opened dynamic library libcufft.so.10\n",
      "2025-03-20 16:43:34.723041: I tensorflow/stream_executor/platform/default/dso_loader.cc:44] Successfully opened dynamic library libcurand.so.10\n",
      "2025-03-20 16:43:34.723074: I tensorflow/stream_executor/platform/default/dso_loader.cc:44] Successfully opened dynamic library libcusolver.so.10\n",
      "2025-03-20 16:43:34.723103: I tensorflow/stream_executor/platform/default/dso_loader.cc:44] Successfully opened dynamic library libcusparse.so.10\n",
      "2025-03-20 16:43:34.723134: I tensorflow/stream_executor/platform/default/dso_loader.cc:44] Successfully opened dynamic library libcudnn.so.7\n",
      "2025-03-20 16:43:34.723335: I tensorflow/stream_executor/cuda/cuda_gpu_executor.cc:981] successful NUMA node read from SysFS had negative value (-1), but there must be at least one NUMA node, so returning NUMA node zero\n",
      "2025-03-20 16:43:34.723938: I tensorflow/stream_executor/cuda/cuda_gpu_executor.cc:981] successful NUMA node read from SysFS had negative value (-1), but there must be at least one NUMA node, so returning NUMA node zero\n",
      "2025-03-20 16:43:34.724333: I tensorflow/core/common_runtime/gpu/gpu_device.cc:1703] Adding visible gpu devices: 0\n",
      "2025-03-20 16:43:34.724579: I tensorflow/stream_executor/platform/default/dso_loader.cc:44] Successfully opened dynamic library libcudart.so.10.1\n",
      "2025-03-20 16:43:34.725573: I tensorflow/core/common_runtime/gpu/gpu_device.cc:1102] Device interconnect StreamExecutor with strength 1 edge matrix:\n",
      "2025-03-20 16:43:34.725667: I tensorflow/core/common_runtime/gpu/gpu_device.cc:1108]      0 \n",
      "2025-03-20 16:43:34.725694: I tensorflow/core/common_runtime/gpu/gpu_device.cc:1121] 0:   N \n",
      "2025-03-20 16:43:34.726084: I tensorflow/stream_executor/cuda/cuda_gpu_executor.cc:981] successful NUMA node read from SysFS had negative value (-1), but there must be at least one NUMA node, so returning NUMA node zero\n",
      "2025-03-20 16:43:34.726638: I tensorflow/stream_executor/cuda/cuda_gpu_executor.cc:981] successful NUMA node read from SysFS had negative value (-1), but there must be at least one NUMA node, so returning NUMA node zero\n",
      "2025-03-20 16:43:34.727263: I tensorflow/core/common_runtime/gpu/gpu_device.cc:1247] Created TensorFlow device (/job:localhost/replica:0/task:0/device:GPU:0 with 3714 MB memory) -> physical GPU (device: 0, name: NVIDIA GeForce 940MX, pci bus id: 0000:01:00.0, compute capability: 5.0)\n"
     ]
    },
    {
     "name": "stdout",
     "output_type": "stream",
     "text": [
      "Model loaded from /home/kevin/Downloads/BESS/Jobs/Retraining/artifacts/lstm_model_20250320.h5\n"
     ]
    }
   ],
   "source": [
    "# Load the saved model\n",
    "def load_model(save_path):\n",
    "    model = tf.keras.models.load_model(save_path)\n",
    "    print(f\"Model loaded from {save_path}\")\n",
    "    return model\n",
    "\n",
    "save_path = f\"/home/kevin/Downloads/BESS/Jobs/Retraining/artifacts/lstm_model_{datetime.now().strftime('%Y%m%d')}.h5\"\n",
    "\n",
    "# load trained model\n",
    "model = load_model(save_path)"
   ]
  },
  {
   "cell_type": "code",
   "execution_count": 6,
   "metadata": {},
   "outputs": [
    {
     "name": "stdout",
     "output_type": "stream",
     "text": [
      "Scaler loaded from /home/kevin/Downloads/BESS/Jobs/Retraining/artifacts/scaler_20250320.pkl\n"
     ]
    }
   ],
   "source": [
    "# Load the scaler\n",
    "def load_scaler(save_path):\n",
    "    scaler = joblib.load(save_path)\n",
    "    print(f\"Scaler loaded from {save_path}\")\n",
    "    return scaler\n",
    "\n",
    "save_path = f\"/home/kevin/Downloads/BESS/Jobs/Retraining/artifacts/scaler_{datetime.now().strftime('%Y%m%d')}.pkl\"\n",
    "\n",
    "scaler = load_scaler(save_path)"
   ]
  },
  {
   "cell_type": "code",
   "execution_count": 7,
   "metadata": {},
   "outputs": [
    {
     "name": "stderr",
     "output_type": "stream",
     "text": [
      "2025-03-20 16:43:38.368627: I tensorflow/stream_executor/platform/default/dso_loader.cc:44] Successfully opened dynamic library libcublas.so.10\n",
      "2025-03-20 16:43:38.693829: I tensorflow/stream_executor/platform/default/dso_loader.cc:44] Successfully opened dynamic library libcudnn.so.7\n"
     ]
    },
    {
     "data": {
      "text/plain": [
       "array([[40.84008 ],\n",
       "       [40.898457],\n",
       "       [50.041996],\n",
       "       [55.528152],\n",
       "       [55.33215 ],\n",
       "       [52.632683],\n",
       "       [47.74548 ],\n",
       "       [43.815575],\n",
       "       [37.34431 ],\n",
       "       [35.550556],\n",
       "       [35.31981 ],\n",
       "       [35.70145 ],\n",
       "       [37.394756],\n",
       "       [40.98639 ],\n",
       "       [45.748547],\n",
       "       [47.275097],\n",
       "       [40.63331 ],\n",
       "       [30.939926],\n",
       "       [28.114107],\n",
       "       [29.324333],\n",
       "       [30.616375],\n",
       "       [30.73483 ],\n",
       "       [30.499538],\n",
       "       [29.014   ]], dtype=float32)"
      ]
     },
     "execution_count": 7,
     "metadata": {},
     "output_type": "execute_result"
    }
   ],
   "source": [
    "# data transformation\n",
    "X_inference = inference_data.drop(columns=['datetime_'])\n",
    "X_inference = scaler.transform(X_inference)\n",
    "X_inference = X_inference.reshape((X_inference.shape[0], 1, int(X_inference.shape[1])))\n",
    "\n",
    "# make predictions\n",
    "y_inference_pred = model.predict(X_inference)\n",
    "y_inference_pred = y_inference_pred.reshape(-1, 1)\n",
    "y_inference_pred"
   ]
  },
  {
   "cell_type": "code",
   "execution_count": 8,
   "metadata": {},
   "outputs": [],
   "source": [
    "# save the predictions\n",
    "pred_df_new = pd.DataFrame()\n",
    "pred_df_new['datetime_'] = inference_data['datetime_']\n",
    "pred_df_new['predicted_pool_price'] = y_inference_pred\n",
    "\n",
    "# load the existing predictions\n",
    "try:\n",
    "    pred_df = pd.read_csv('/home/kevin/Downloads/BESS/Jobs/Inferencing/data/predictions/pred_df.csv')\n",
    "except:\n",
    "    pred_df = pd.DataFrame()\n",
    "\n",
    "# concatenate the new predictions with the existing predictions\n",
    "pred_df = pd.concat([pred_df, pred_df_new], axis=0, ignore_index=True)\n",
    "# drop duplicates\n",
    "pred_df = pred_df.drop_duplicates(subset=['datetime_'], keep='last')\n",
    "# sort the dataframe by datetime\n",
    "pred_df = pred_df.sort_values(by='datetime_', ascending=True)\n",
    "# reset the index\n",
    "pred_df = pred_df.reset_index(drop=True)\n",
    "# save the predictions\n",
    "pred_df.to_csv('/home/kevin/Downloads/BESS/Jobs/Inferencing/data/predictions/pred_df.csv', index=False)"
   ]
  }
 ],
 "metadata": {
  "kernelspec": {
   "display_name": "bess_venv",
   "language": "python",
   "name": "python3"
  },
  "language_info": {
   "codemirror_mode": {
    "name": "ipython",
    "version": 3
   },
   "file_extension": ".py",
   "mimetype": "text/x-python",
   "name": "python",
   "nbconvert_exporter": "python",
   "pygments_lexer": "ipython3",
   "version": "3.8.10"
  }
 },
 "nbformat": 4,
 "nbformat_minor": 2
}
