{
 "cells": [
  {
   "cell_type": "markdown",
   "id": "306f2479",
   "metadata": {},
   "source": [
    "#### Library"
   ]
  },
  {
   "cell_type": "code",
   "execution_count": 61,
   "id": "b14db1cf",
   "metadata": {},
   "outputs": [],
   "source": [
    "import pandas as pd\n",
    "import numpy as np\n",
    "import seaborn as sns\n",
    "import matplotlib.pyplot as plt\n",
    "from datetime import datetime, timedelta\n",
    "import pytz\n",
    "\n",
    "# Set pandas options to display all rows and columns\n",
    "pd.set_option('display.max_rows', None)\n",
    "pd.set_option('display.max_columns', None)\n",
    "\n",
    "import os"
   ]
  },
  {
   "cell_type": "markdown",
   "id": "782610cf",
   "metadata": {},
   "source": [
    "#### Data Loading"
   ]
  },
  {
   "cell_type": "code",
   "execution_count": 27,
   "id": "ed6c793e",
   "metadata": {},
   "outputs": [
    {
     "name": "stdout",
     "output_type": "stream",
     "text": [
      "Current working directory: /Users/kishanakbari/Downloads/BESS\n"
     ]
    }
   ],
   "source": [
    "import os\n",
    "\n",
    "# Change this to your absolute BESS path\n",
    "bess_path = '/Users/kishanakbari/Downloads/BESS'\n",
    "\n",
    "os.chdir(bess_path)\n",
    "print(\"Current working directory:\", os.getcwd())"
   ]
  },
  {
   "cell_type": "code",
   "execution_count": 29,
   "id": "813733f4",
   "metadata": {
    "lines_to_next_cell": 2
   },
   "outputs": [
    {
     "name": "stdout",
     "output_type": "stream",
     "text": [
      "Loaded DataFrame: temperature_fortmc_, Shape: (24, 3)\n",
      "Loaded DataFrame: wind_generation_, Shape: (24, 3)\n",
      "Loaded DataFrame: windspeed_fortmc_, Shape: (24, 3)\n",
      "Loaded DataFrame: AIL_, Shape: (48, 3)\n",
      "Loaded DataFrame: windspeed_calgary_, Shape: (24, 3)\n",
      "Loaded DataFrame: temperature_calgary_, Shape: (24, 3)\n",
      "Loaded DataFrame: temperature_edmonton_, Shape: (24, 3)\n",
      "Loaded DataFrame: price_, Shape: (48, 4)\n",
      "Loaded DataFrame: solar_generation_, Shape: (24, 3)\n",
      "Loaded DataFrame: windspeed_edmonton_, Shape: (24, 3)\n"
     ]
    }
   ],
   "source": [
    "# Folder containing CSV files\n",
    "folder_path = \"Jobs/Inferencing/data/raw\" \n",
    "\n",
    "df_list = []\n",
    "# Loop through each file in the folder\n",
    "for file in os.listdir(folder_path):\n",
    "    if file.endswith(\".csv\"):\n",
    "        file_path = os.path.join(folder_path, file)\n",
    "        df_name = os.path.splitext(file)[0].split('20')[0]  # Remove the .csv extension for naming\n",
    "        globals()[df_name] = pd.read_csv(file_path)  # Create a variable dynamically\n",
    "        print(f\"Loaded DataFrame: {df_name}, Shape: {globals()[df_name].shape}\")\n",
    "        df_list.append(df_name)\n",
    "\n",
    "# Sort the list of DataFrames\n",
    "df_list.sort()"
   ]
  },
  {
   "cell_type": "code",
   "execution_count": 30,
   "id": "5bbeef59",
   "metadata": {},
   "outputs": [
    {
     "name": "stdout",
     "output_type": "stream",
     "text": [
      "\n",
      "DataFrame: AIL_\n",
      "\n",
      "DataFrame: price_\n",
      "\n",
      "DataFrame: solar_generation_\n",
      "\n",
      "DataFrame: temperature_calgary_\n",
      "\n",
      "DataFrame: temperature_edmonton_\n",
      "\n",
      "DataFrame: temperature_fortmc_\n",
      "\n",
      "DataFrame: wind_generation_\n",
      "\n",
      "DataFrame: windspeed_calgary_\n",
      "\n",
      "DataFrame: windspeed_edmonton_\n",
      "\n",
      "DataFrame: windspeed_fortmc_\n"
     ]
    }
   ],
   "source": [
    "for df_name in df_list:\n",
    "    print(f\"\\nDataFrame: {df_name}\")\n",
    "    # display(globals()[df_name].head())"
   ]
  },
  {
   "cell_type": "markdown",
   "id": "93577187",
   "metadata": {},
   "source": [
    "#### Column Name Adjustment"
   ]
  },
  {
   "cell_type": "code",
   "execution_count": 31,
   "id": "ed95114a",
   "metadata": {},
   "outputs": [
    {
     "name": "stdout",
     "output_type": "stream",
     "text": [
      "\n",
      "DataFrame: AIL_\n",
      "\n",
      "DataFrame: price_\n",
      "\n",
      "DataFrame: solar_generation_\n",
      "\n",
      "DataFrame: temperature_calgary_\n",
      "\n",
      "DataFrame: temperature_edmonton_\n",
      "\n",
      "DataFrame: temperature_fortmc_\n",
      "\n",
      "DataFrame: wind_generation_\n",
      "\n",
      "DataFrame: windspeed_calgary_\n",
      "\n",
      "DataFrame: windspeed_edmonton_\n",
      "\n",
      "DataFrame: windspeed_fortmc_\n"
     ]
    }
   ],
   "source": [
    "for df_name in df_list:\n",
    "    print(f\"\\nDataFrame: {df_name}\")\n",
    "    globals()[df_name].drop(['Unnamed: 0'], axis=1, inplace=True)\n",
    "    # display(globals()[df_name].head())"
   ]
  },
  {
   "cell_type": "code",
   "execution_count": 32,
   "id": "6887ac25",
   "metadata": {},
   "outputs": [],
   "source": [
    "# Rename columns\n",
    "price_.rename(columns={'begin_datetime_mpt': 'datetime_'}, inplace=True)\n",
    "\n",
    "AIL_.rename(columns={'begin_datetime_mpt': 'datetime_'}, inplace=True)\n",
    "\n",
    "solar_generation_.rename(columns={'Date (MPT)': 'datetime_', 'Volume':'solar_generation'}, inplace=True)\n",
    "\n",
    "wind_generation_.rename(columns={'Date (MPT)': 'datetime_', 'Volume':'wind_generation'}, inplace=True)\n",
    "\n",
    "temperature_calgary_.rename(columns={'Timestamp_mst': 'datetime_', 'Temperature (°C)':'temp_calgary'}, inplace=True)\n",
    "\n",
    "temperature_edmonton_.rename(columns={'Timestamp_mst': 'datetime_', 'Temperature (°C)':'temp_edmonton'}, inplace=True)\n",
    "\n",
    "temperature_fortmc_.rename(columns={'Timestamp_mst': 'datetime_', 'Temperature (°C)':'temp_fortmc'}, inplace=True)\n",
    "\n",
    "windspeed_calgary_.rename(columns={'Timestamp_mst': 'datetime_', 'Wind Speed (km/h)':'ws_calgary'}, inplace=True)\n",
    "\n",
    "windspeed_edmonton_.rename(columns={'Timestamp_mst': 'datetime_', 'Wind Speed (km/h)':'ws_edmonton'}, inplace=True)\n",
    "\n",
    "windspeed_fortmc_.rename(columns={'Timestamp_mst': 'datetime_', 'Wind Speed (km/h)':'ws_fortmc'}, inplace=True)"
   ]
  },
  {
   "cell_type": "code",
   "execution_count": 33,
   "id": "7316a1fc",
   "metadata": {},
   "outputs": [
    {
     "name": "stdout",
     "output_type": "stream",
     "text": [
      "\n",
      "DataFrame: AIL_\n",
      "\n",
      "DataFrame: price_\n",
      "\n",
      "DataFrame: solar_generation_\n",
      "\n",
      "DataFrame: temperature_calgary_\n",
      "\n",
      "DataFrame: temperature_edmonton_\n",
      "\n",
      "DataFrame: temperature_fortmc_\n",
      "\n",
      "DataFrame: wind_generation_\n",
      "\n",
      "DataFrame: windspeed_calgary_\n",
      "\n",
      "DataFrame: windspeed_edmonton_\n",
      "\n",
      "DataFrame: windspeed_fortmc_\n"
     ]
    }
   ],
   "source": [
    "for df_name in df_list:\n",
    "    print(f\"\\nDataFrame: {df_name}\")\n",
    "    # display(globals()[df_name].head())"
   ]
  },
  {
   "cell_type": "code",
   "execution_count": 34,
   "id": "4d85d01d",
   "metadata": {},
   "outputs": [
    {
     "name": "stdout",
     "output_type": "stream",
     "text": [
      "\n",
      "DataFrame: AIL_\n",
      "\n",
      "DataFrame: price_\n",
      "\n",
      "DataFrame: solar_generation_\n",
      "\n",
      "DataFrame: temperature_calgary_\n",
      "\n",
      "DataFrame: temperature_edmonton_\n",
      "\n",
      "DataFrame: temperature_fortmc_\n",
      "\n",
      "DataFrame: wind_generation_\n",
      "\n",
      "DataFrame: windspeed_calgary_\n",
      "\n",
      "DataFrame: windspeed_edmonton_\n",
      "\n",
      "DataFrame: windspeed_fortmc_\n"
     ]
    }
   ],
   "source": [
    "# convert columns to datetime\n",
    "for df_name in df_list:\n",
    "    print(f\"\\nDataFrame: {df_name}\")\n",
    "    try:\n",
    "        globals()[df_name]['datetime_'] = pd.to_datetime(globals()[df_name]['datetime_'])\n",
    "        # display(globals()[df_name].head())\n",
    "    except:\n",
    "        globals()[df_name]['datetime_'] = pd.to_datetime(globals()[df_name]['Timestamp'])\n",
    "        globals()[df_name].drop(['Timestamp'], axis=1, inplace=True)\n",
    "        # display(globals()[df_name].head())"
   ]
  },
  {
   "cell_type": "code",
   "execution_count": 43,
   "id": "04c4fc01",
   "metadata": {},
   "outputs": [
    {
     "name": "stdout",
     "output_type": "stream",
     "text": [
      "AIL_\n",
      "2025-05-21 18:00:00 2025-05-23 17:00:00\n",
      "datetime_                0\n",
      "alberta_internal_load    0\n",
      "dtype: int64\n",
      "price_\n",
      "2025-05-21 18:00:00 2025-05-23 17:00:00\n",
      "datetime_                  0\n",
      "forecast_pool_price        3\n",
      "rolling_30day_avg_price    3\n",
      "dtype: int64\n",
      "solar_generation_\n",
      "2025-05-22 18:00:00 2025-05-23 17:00:00\n",
      "datetime_           0\n",
      "solar_generation    0\n",
      "dtype: int64\n",
      "temperature_calgary_\n",
      "2025-05-22 18:00:00 2025-05-23 17:00:00\n",
      "temp_calgary    0\n",
      "datetime_       0\n",
      "dtype: int64\n",
      "temperature_edmonton_\n",
      "2025-05-22 18:00:00 2025-05-23 17:00:00\n",
      "temp_edmonton    0\n",
      "datetime_        0\n",
      "dtype: int64\n",
      "temperature_fortmc_\n",
      "2025-05-22 18:00:00 2025-05-23 17:00:00\n",
      "temp_fortmc    0\n",
      "datetime_      0\n",
      "dtype: int64\n",
      "wind_generation_\n",
      "2025-05-22 18:00:00 2025-05-23 17:00:00\n",
      "datetime_          0\n",
      "wind_generation    0\n",
      "dtype: int64\n",
      "windspeed_calgary_\n",
      "2025-05-22 18:00:00 2025-05-23 17:00:00\n",
      "ws_calgary    0\n",
      "datetime_     0\n",
      "dtype: int64\n",
      "windspeed_edmonton_\n",
      "2025-05-22 18:00:00 2025-05-23 17:00:00\n",
      "ws_edmonton    0\n",
      "datetime_      0\n",
      "dtype: int64\n",
      "windspeed_fortmc_\n",
      "2025-05-22 18:00:00 2025-05-23 17:00:00\n",
      "ws_fortmc    0\n",
      "datetime_    0\n",
      "dtype: int64\n"
     ]
    }
   ],
   "source": [
    "# print(AIL_.datetime_.min(), AIL_.datetime_.max())\n",
    "\n",
    "\n",
    "for df_name in df_list:\n",
    "    print(df_name)\n",
    "    print(globals()[df_name].datetime_.min(), globals()[df_name].datetime_.max())\n",
    "    print(globals()[df_name].isnull().sum())\n",
    "    "
   ]
  },
  {
   "cell_type": "code",
   "execution_count": 44,
   "id": "8051118d",
   "metadata": {},
   "outputs": [],
   "source": [
    "# Initialize the merged dataframe with the first dataframe in the list\n",
    "merged_df = globals()[df_list[0]]\n",
    "\n",
    "# Loop through the remaining dataframes and merge them one by one\n",
    "for df_name in df_list[1:]:\n",
    "    merged_df = merged_df.merge(globals()[df_name], on='datetime_', how='outer')\n",
    "\n",
    "# Display the merged dataframe\n",
    "# display(merged_df.head())"
   ]
  },
  {
   "cell_type": "code",
   "execution_count": 45,
   "id": "6a5a42ee",
   "metadata": {},
   "outputs": [
    {
     "name": "stdout",
     "output_type": "stream",
     "text": [
      "<class 'pandas.core.frame.DataFrame'>\n",
      "Int64Index: 48 entries, 0 to 47\n",
      "Data columns (total 12 columns):\n",
      " #   Column                   Non-Null Count  Dtype         \n",
      "---  ------                   --------------  -----         \n",
      " 0   datetime_                48 non-null     datetime64[ns]\n",
      " 1   alberta_internal_load    48 non-null     int64         \n",
      " 2   forecast_pool_price      45 non-null     float64       \n",
      " 3   rolling_30day_avg_price  45 non-null     float64       \n",
      " 4   solar_generation         24 non-null     float64       \n",
      " 5   temp_calgary             24 non-null     float64       \n",
      " 6   temp_edmonton            24 non-null     float64       \n",
      " 7   temp_fortmc              24 non-null     float64       \n",
      " 8   wind_generation          24 non-null     float64       \n",
      " 9   ws_calgary               24 non-null     float64       \n",
      " 10  ws_edmonton              24 non-null     float64       \n",
      " 11  ws_fortmc                24 non-null     float64       \n",
      "dtypes: datetime64[ns](1), float64(10), int64(1)\n",
      "memory usage: 4.9 KB\n"
     ]
    }
   ],
   "source": [
    "merged_df.info()"
   ]
  },
  {
   "cell_type": "code",
   "execution_count": 46,
   "id": "672b5e46",
   "metadata": {},
   "outputs": [
    {
     "data": {
      "text/plain": [
       "(48, 12)"
      ]
     },
     "execution_count": 46,
     "metadata": {},
     "output_type": "execute_result"
    }
   ],
   "source": [
    "merged_df.shape"
   ]
  },
  {
   "cell_type": "code",
   "execution_count": 47,
   "id": "bdc0c55e",
   "metadata": {},
   "outputs": [
    {
     "data": {
      "text/plain": [
       "datetime_                   0\n",
       "alberta_internal_load       0\n",
       "forecast_pool_price         3\n",
       "rolling_30day_avg_price     3\n",
       "solar_generation           24\n",
       "temp_calgary               24\n",
       "temp_edmonton              24\n",
       "temp_fortmc                24\n",
       "wind_generation            24\n",
       "ws_calgary                 24\n",
       "ws_edmonton                24\n",
       "ws_fortmc                  24\n",
       "dtype: int64"
      ]
     },
     "execution_count": 47,
     "metadata": {},
     "output_type": "execute_result"
    }
   ],
   "source": [
    "merged_df.isnull().sum()"
   ]
  },
  {
   "cell_type": "markdown",
   "id": "f70ab1f3",
   "metadata": {},
   "source": [
    "#### Feature Engineering"
   ]
  },
  {
   "cell_type": "markdown",
   "id": "590b9928",
   "metadata": {},
   "source": [
    "##### time based variables"
   ]
  },
  {
   "cell_type": "code",
   "execution_count": 48,
   "id": "f1e56160",
   "metadata": {},
   "outputs": [],
   "source": [
    "merged_df['hour_of_day'] = merged_df['datetime_'].dt.hour\n",
    "merged_df['day_of_week'] = merged_df['datetime_'].dt.dayofweek\n",
    "merged_df['day_of_month'] = merged_df['datetime_'].dt.day\n",
    "# Calculate the week of the month (from 1 to 5)\n",
    "merged_df['week_of_month'] = merged_df['datetime_'].apply(lambda x: (x.day - 1) // 7 + 1)\n",
    "merged_df['month'] = merged_df['datetime_'].dt.month\n",
    "merged_df['year'] = merged_df['datetime_'].dt.year\n",
    "\n",
    "# Display the updated dataframe\n",
    "# display(merged_df.head())"
   ]
  },
  {
   "cell_type": "markdown",
   "id": "15c883f8",
   "metadata": {},
   "source": [
    "##### seasonality"
   ]
  },
  {
   "cell_type": "code",
   "execution_count": 49,
   "id": "6a9d6985",
   "metadata": {},
   "outputs": [],
   "source": [
    "# Define a function to determine the season\n",
    "def get_season(month):\n",
    "    if month in [5, 6, 7, 8, 9]:\n",
    "        return 0 # Summer\n",
    "    else:\n",
    "        return 1 # Winter\n",
    "\n",
    "# Apply the function to create a new column 'season'\n",
    "merged_df['is_winter'] = merged_df['month'].apply(get_season)\n",
    "\n",
    "# Display the updated dataframe\n",
    "# display(merged_df.head())"
   ]
  },
  {
   "cell_type": "markdown",
   "id": "5806d5c6",
   "metadata": {},
   "source": [
    "##### pool_price_lagged_values_till_24_hours"
   ]
  },
  {
   "cell_type": "code",
   "execution_count": 50,
   "id": "0bd006a8",
   "metadata": {},
   "outputs": [],
   "source": [
    "def generate_lagged_features(df, column, num_lags):\n",
    "    for lag in range(1, num_lags + 1):\n",
    "        df[f'pool_price_lag_{lag}'] = df[column].shift(lag)\n",
    "    return df\n",
    "\n",
    "# Generate 24-hour lagged values for the pool_price column\n",
    "merged_df = generate_lagged_features(merged_df, 'forecast_pool_price', 24)\n",
    "\n",
    "# Display the updated dataframe\n",
    "# display(merged_df.head())"
   ]
  },
  {
   "cell_type": "code",
   "execution_count": 53,
   "id": "da0fe742",
   "metadata": {},
   "outputs": [
    {
     "name": "stdout",
     "output_type": "stream",
     "text": [
      "(48, 43)\n",
      "2025-05-21 18:00:00 2025-05-23 17:00:00\n"
     ]
    },
    {
     "data": {
      "text/html": [
       "<div>\n",
       "<style scoped>\n",
       "    .dataframe tbody tr th:only-of-type {\n",
       "        vertical-align: middle;\n",
       "    }\n",
       "\n",
       "    .dataframe tbody tr th {\n",
       "        vertical-align: top;\n",
       "    }\n",
       "\n",
       "    .dataframe thead th {\n",
       "        text-align: right;\n",
       "    }\n",
       "</style>\n",
       "<table border=\"1\" class=\"dataframe\">\n",
       "  <thead>\n",
       "    <tr style=\"text-align: right;\">\n",
       "      <th></th>\n",
       "      <th>datetime_</th>\n",
       "      <th>alberta_internal_load</th>\n",
       "      <th>forecast_pool_price</th>\n",
       "      <th>rolling_30day_avg_price</th>\n",
       "      <th>solar_generation</th>\n",
       "      <th>temp_calgary</th>\n",
       "      <th>temp_edmonton</th>\n",
       "      <th>temp_fortmc</th>\n",
       "      <th>wind_generation</th>\n",
       "      <th>ws_calgary</th>\n",
       "      <th>...</th>\n",
       "      <th>pool_price_lag_15</th>\n",
       "      <th>pool_price_lag_16</th>\n",
       "      <th>pool_price_lag_17</th>\n",
       "      <th>pool_price_lag_18</th>\n",
       "      <th>pool_price_lag_19</th>\n",
       "      <th>pool_price_lag_20</th>\n",
       "      <th>pool_price_lag_21</th>\n",
       "      <th>pool_price_lag_22</th>\n",
       "      <th>pool_price_lag_23</th>\n",
       "      <th>pool_price_lag_24</th>\n",
       "    </tr>\n",
       "  </thead>\n",
       "  <tbody>\n",
       "    <tr>\n",
       "      <th>0</th>\n",
       "      <td>2025-05-21 18:00:00</td>\n",
       "      <td>9723</td>\n",
       "      <td>15.12</td>\n",
       "      <td>36.51</td>\n",
       "      <td>NaN</td>\n",
       "      <td>NaN</td>\n",
       "      <td>NaN</td>\n",
       "      <td>NaN</td>\n",
       "      <td>NaN</td>\n",
       "      <td>NaN</td>\n",
       "      <td>...</td>\n",
       "      <td>NaN</td>\n",
       "      <td>NaN</td>\n",
       "      <td>NaN</td>\n",
       "      <td>NaN</td>\n",
       "      <td>NaN</td>\n",
       "      <td>NaN</td>\n",
       "      <td>NaN</td>\n",
       "      <td>NaN</td>\n",
       "      <td>NaN</td>\n",
       "      <td>NaN</td>\n",
       "    </tr>\n",
       "    <tr>\n",
       "      <th>1</th>\n",
       "      <td>2025-05-21 19:00:00</td>\n",
       "      <td>9706</td>\n",
       "      <td>10.11</td>\n",
       "      <td>36.34</td>\n",
       "      <td>NaN</td>\n",
       "      <td>NaN</td>\n",
       "      <td>NaN</td>\n",
       "      <td>NaN</td>\n",
       "      <td>NaN</td>\n",
       "      <td>NaN</td>\n",
       "      <td>...</td>\n",
       "      <td>NaN</td>\n",
       "      <td>NaN</td>\n",
       "      <td>NaN</td>\n",
       "      <td>NaN</td>\n",
       "      <td>NaN</td>\n",
       "      <td>NaN</td>\n",
       "      <td>NaN</td>\n",
       "      <td>NaN</td>\n",
       "      <td>NaN</td>\n",
       "      <td>NaN</td>\n",
       "    </tr>\n",
       "    <tr>\n",
       "      <th>2</th>\n",
       "      <td>2025-05-21 20:00:00</td>\n",
       "      <td>9679</td>\n",
       "      <td>15.79</td>\n",
       "      <td>36.18</td>\n",
       "      <td>NaN</td>\n",
       "      <td>NaN</td>\n",
       "      <td>NaN</td>\n",
       "      <td>NaN</td>\n",
       "      <td>NaN</td>\n",
       "      <td>NaN</td>\n",
       "      <td>...</td>\n",
       "      <td>NaN</td>\n",
       "      <td>NaN</td>\n",
       "      <td>NaN</td>\n",
       "      <td>NaN</td>\n",
       "      <td>NaN</td>\n",
       "      <td>NaN</td>\n",
       "      <td>NaN</td>\n",
       "      <td>NaN</td>\n",
       "      <td>NaN</td>\n",
       "      <td>NaN</td>\n",
       "    </tr>\n",
       "    <tr>\n",
       "      <th>3</th>\n",
       "      <td>2025-05-21 21:00:00</td>\n",
       "      <td>9542</td>\n",
       "      <td>22.42</td>\n",
       "      <td>35.96</td>\n",
       "      <td>NaN</td>\n",
       "      <td>NaN</td>\n",
       "      <td>NaN</td>\n",
       "      <td>NaN</td>\n",
       "      <td>NaN</td>\n",
       "      <td>NaN</td>\n",
       "      <td>...</td>\n",
       "      <td>NaN</td>\n",
       "      <td>NaN</td>\n",
       "      <td>NaN</td>\n",
       "      <td>NaN</td>\n",
       "      <td>NaN</td>\n",
       "      <td>NaN</td>\n",
       "      <td>NaN</td>\n",
       "      <td>NaN</td>\n",
       "      <td>NaN</td>\n",
       "      <td>NaN</td>\n",
       "    </tr>\n",
       "    <tr>\n",
       "      <th>4</th>\n",
       "      <td>2025-05-21 22:00:00</td>\n",
       "      <td>9465</td>\n",
       "      <td>24.43</td>\n",
       "      <td>35.87</td>\n",
       "      <td>NaN</td>\n",
       "      <td>NaN</td>\n",
       "      <td>NaN</td>\n",
       "      <td>NaN</td>\n",
       "      <td>NaN</td>\n",
       "      <td>NaN</td>\n",
       "      <td>...</td>\n",
       "      <td>NaN</td>\n",
       "      <td>NaN</td>\n",
       "      <td>NaN</td>\n",
       "      <td>NaN</td>\n",
       "      <td>NaN</td>\n",
       "      <td>NaN</td>\n",
       "      <td>NaN</td>\n",
       "      <td>NaN</td>\n",
       "      <td>NaN</td>\n",
       "      <td>NaN</td>\n",
       "    </tr>\n",
       "  </tbody>\n",
       "</table>\n",
       "<p>5 rows × 43 columns</p>\n",
       "</div>"
      ],
      "text/plain": [
       "            datetime_  alberta_internal_load  forecast_pool_price  \\\n",
       "0 2025-05-21 18:00:00                   9723                15.12   \n",
       "1 2025-05-21 19:00:00                   9706                10.11   \n",
       "2 2025-05-21 20:00:00                   9679                15.79   \n",
       "3 2025-05-21 21:00:00                   9542                22.42   \n",
       "4 2025-05-21 22:00:00                   9465                24.43   \n",
       "\n",
       "   rolling_30day_avg_price  solar_generation  temp_calgary  temp_edmonton  \\\n",
       "0                    36.51               NaN           NaN            NaN   \n",
       "1                    36.34               NaN           NaN            NaN   \n",
       "2                    36.18               NaN           NaN            NaN   \n",
       "3                    35.96               NaN           NaN            NaN   \n",
       "4                    35.87               NaN           NaN            NaN   \n",
       "\n",
       "   temp_fortmc  wind_generation  ws_calgary  ...  pool_price_lag_15  \\\n",
       "0          NaN              NaN         NaN  ...                NaN   \n",
       "1          NaN              NaN         NaN  ...                NaN   \n",
       "2          NaN              NaN         NaN  ...                NaN   \n",
       "3          NaN              NaN         NaN  ...                NaN   \n",
       "4          NaN              NaN         NaN  ...                NaN   \n",
       "\n",
       "   pool_price_lag_16  pool_price_lag_17  pool_price_lag_18  pool_price_lag_19  \\\n",
       "0                NaN                NaN                NaN                NaN   \n",
       "1                NaN                NaN                NaN                NaN   \n",
       "2                NaN                NaN                NaN                NaN   \n",
       "3                NaN                NaN                NaN                NaN   \n",
       "4                NaN                NaN                NaN                NaN   \n",
       "\n",
       "   pool_price_lag_20  pool_price_lag_21  pool_price_lag_22  pool_price_lag_23  \\\n",
       "0                NaN                NaN                NaN                NaN   \n",
       "1                NaN                NaN                NaN                NaN   \n",
       "2                NaN                NaN                NaN                NaN   \n",
       "3                NaN                NaN                NaN                NaN   \n",
       "4                NaN                NaN                NaN                NaN   \n",
       "\n",
       "   pool_price_lag_24  \n",
       "0                NaN  \n",
       "1                NaN  \n",
       "2                NaN  \n",
       "3                NaN  \n",
       "4                NaN  \n",
       "\n",
       "[5 rows x 43 columns]"
      ]
     },
     "execution_count": 53,
     "metadata": {},
     "output_type": "execute_result"
    }
   ],
   "source": [
    "print(merged_df.shape)\n",
    "print(merged_df.datetime_.min(), merged_df.datetime_.max())\n",
    "merged_df.head()"
   ]
  },
  {
   "cell_type": "markdown",
   "id": "46515c72",
   "metadata": {},
   "source": [
    "##### AIL_lagged_values_till_24_hours"
   ]
  },
  {
   "cell_type": "code",
   "execution_count": 54,
   "id": "4020ec37",
   "metadata": {},
   "outputs": [],
   "source": [
    "def generate_lagged_features(df, column, num_lags):\n",
    "    for lag in range(1, num_lags + 1):\n",
    "        df[f'{column}_lag_{lag}'] = df[column].shift(lag)\n",
    "    return df\n",
    "\n",
    "# Generate 24-hour lagged values for the AIL column\n",
    "merged_df = generate_lagged_features(merged_df, 'alberta_internal_load', 24)\n",
    "\n",
    "# Display the updated dataframe\n",
    "# display(merged_df.head())"
   ]
  },
  {
   "cell_type": "code",
   "execution_count": 55,
   "id": "409bf7a6",
   "metadata": {},
   "outputs": [
    {
     "name": "stdout",
     "output_type": "stream",
     "text": [
      "(48, 67)\n",
      "2025-05-21 18:00:00 2025-05-23 17:00:00\n"
     ]
    },
    {
     "data": {
      "text/html": [
       "<div>\n",
       "<style scoped>\n",
       "    .dataframe tbody tr th:only-of-type {\n",
       "        vertical-align: middle;\n",
       "    }\n",
       "\n",
       "    .dataframe tbody tr th {\n",
       "        vertical-align: top;\n",
       "    }\n",
       "\n",
       "    .dataframe thead th {\n",
       "        text-align: right;\n",
       "    }\n",
       "</style>\n",
       "<table border=\"1\" class=\"dataframe\">\n",
       "  <thead>\n",
       "    <tr style=\"text-align: right;\">\n",
       "      <th></th>\n",
       "      <th>datetime_</th>\n",
       "      <th>alberta_internal_load</th>\n",
       "      <th>forecast_pool_price</th>\n",
       "      <th>rolling_30day_avg_price</th>\n",
       "      <th>solar_generation</th>\n",
       "      <th>temp_calgary</th>\n",
       "      <th>temp_edmonton</th>\n",
       "      <th>temp_fortmc</th>\n",
       "      <th>wind_generation</th>\n",
       "      <th>ws_calgary</th>\n",
       "      <th>...</th>\n",
       "      <th>alberta_internal_load_lag_15</th>\n",
       "      <th>alberta_internal_load_lag_16</th>\n",
       "      <th>alberta_internal_load_lag_17</th>\n",
       "      <th>alberta_internal_load_lag_18</th>\n",
       "      <th>alberta_internal_load_lag_19</th>\n",
       "      <th>alberta_internal_load_lag_20</th>\n",
       "      <th>alberta_internal_load_lag_21</th>\n",
       "      <th>alberta_internal_load_lag_22</th>\n",
       "      <th>alberta_internal_load_lag_23</th>\n",
       "      <th>alberta_internal_load_lag_24</th>\n",
       "    </tr>\n",
       "  </thead>\n",
       "  <tbody>\n",
       "    <tr>\n",
       "      <th>0</th>\n",
       "      <td>2025-05-21 18:00:00</td>\n",
       "      <td>9723</td>\n",
       "      <td>15.12</td>\n",
       "      <td>36.51</td>\n",
       "      <td>NaN</td>\n",
       "      <td>NaN</td>\n",
       "      <td>NaN</td>\n",
       "      <td>NaN</td>\n",
       "      <td>NaN</td>\n",
       "      <td>NaN</td>\n",
       "      <td>...</td>\n",
       "      <td>NaN</td>\n",
       "      <td>NaN</td>\n",
       "      <td>NaN</td>\n",
       "      <td>NaN</td>\n",
       "      <td>NaN</td>\n",
       "      <td>NaN</td>\n",
       "      <td>NaN</td>\n",
       "      <td>NaN</td>\n",
       "      <td>NaN</td>\n",
       "      <td>NaN</td>\n",
       "    </tr>\n",
       "    <tr>\n",
       "      <th>1</th>\n",
       "      <td>2025-05-21 19:00:00</td>\n",
       "      <td>9706</td>\n",
       "      <td>10.11</td>\n",
       "      <td>36.34</td>\n",
       "      <td>NaN</td>\n",
       "      <td>NaN</td>\n",
       "      <td>NaN</td>\n",
       "      <td>NaN</td>\n",
       "      <td>NaN</td>\n",
       "      <td>NaN</td>\n",
       "      <td>...</td>\n",
       "      <td>NaN</td>\n",
       "      <td>NaN</td>\n",
       "      <td>NaN</td>\n",
       "      <td>NaN</td>\n",
       "      <td>NaN</td>\n",
       "      <td>NaN</td>\n",
       "      <td>NaN</td>\n",
       "      <td>NaN</td>\n",
       "      <td>NaN</td>\n",
       "      <td>NaN</td>\n",
       "    </tr>\n",
       "    <tr>\n",
       "      <th>2</th>\n",
       "      <td>2025-05-21 20:00:00</td>\n",
       "      <td>9679</td>\n",
       "      <td>15.79</td>\n",
       "      <td>36.18</td>\n",
       "      <td>NaN</td>\n",
       "      <td>NaN</td>\n",
       "      <td>NaN</td>\n",
       "      <td>NaN</td>\n",
       "      <td>NaN</td>\n",
       "      <td>NaN</td>\n",
       "      <td>...</td>\n",
       "      <td>NaN</td>\n",
       "      <td>NaN</td>\n",
       "      <td>NaN</td>\n",
       "      <td>NaN</td>\n",
       "      <td>NaN</td>\n",
       "      <td>NaN</td>\n",
       "      <td>NaN</td>\n",
       "      <td>NaN</td>\n",
       "      <td>NaN</td>\n",
       "      <td>NaN</td>\n",
       "    </tr>\n",
       "    <tr>\n",
       "      <th>3</th>\n",
       "      <td>2025-05-21 21:00:00</td>\n",
       "      <td>9542</td>\n",
       "      <td>22.42</td>\n",
       "      <td>35.96</td>\n",
       "      <td>NaN</td>\n",
       "      <td>NaN</td>\n",
       "      <td>NaN</td>\n",
       "      <td>NaN</td>\n",
       "      <td>NaN</td>\n",
       "      <td>NaN</td>\n",
       "      <td>...</td>\n",
       "      <td>NaN</td>\n",
       "      <td>NaN</td>\n",
       "      <td>NaN</td>\n",
       "      <td>NaN</td>\n",
       "      <td>NaN</td>\n",
       "      <td>NaN</td>\n",
       "      <td>NaN</td>\n",
       "      <td>NaN</td>\n",
       "      <td>NaN</td>\n",
       "      <td>NaN</td>\n",
       "    </tr>\n",
       "    <tr>\n",
       "      <th>4</th>\n",
       "      <td>2025-05-21 22:00:00</td>\n",
       "      <td>9465</td>\n",
       "      <td>24.43</td>\n",
       "      <td>35.87</td>\n",
       "      <td>NaN</td>\n",
       "      <td>NaN</td>\n",
       "      <td>NaN</td>\n",
       "      <td>NaN</td>\n",
       "      <td>NaN</td>\n",
       "      <td>NaN</td>\n",
       "      <td>...</td>\n",
       "      <td>NaN</td>\n",
       "      <td>NaN</td>\n",
       "      <td>NaN</td>\n",
       "      <td>NaN</td>\n",
       "      <td>NaN</td>\n",
       "      <td>NaN</td>\n",
       "      <td>NaN</td>\n",
       "      <td>NaN</td>\n",
       "      <td>NaN</td>\n",
       "      <td>NaN</td>\n",
       "    </tr>\n",
       "  </tbody>\n",
       "</table>\n",
       "<p>5 rows × 67 columns</p>\n",
       "</div>"
      ],
      "text/plain": [
       "            datetime_  alberta_internal_load  forecast_pool_price  \\\n",
       "0 2025-05-21 18:00:00                   9723                15.12   \n",
       "1 2025-05-21 19:00:00                   9706                10.11   \n",
       "2 2025-05-21 20:00:00                   9679                15.79   \n",
       "3 2025-05-21 21:00:00                   9542                22.42   \n",
       "4 2025-05-21 22:00:00                   9465                24.43   \n",
       "\n",
       "   rolling_30day_avg_price  solar_generation  temp_calgary  temp_edmonton  \\\n",
       "0                    36.51               NaN           NaN            NaN   \n",
       "1                    36.34               NaN           NaN            NaN   \n",
       "2                    36.18               NaN           NaN            NaN   \n",
       "3                    35.96               NaN           NaN            NaN   \n",
       "4                    35.87               NaN           NaN            NaN   \n",
       "\n",
       "   temp_fortmc  wind_generation  ws_calgary  ...  \\\n",
       "0          NaN              NaN         NaN  ...   \n",
       "1          NaN              NaN         NaN  ...   \n",
       "2          NaN              NaN         NaN  ...   \n",
       "3          NaN              NaN         NaN  ...   \n",
       "4          NaN              NaN         NaN  ...   \n",
       "\n",
       "   alberta_internal_load_lag_15  alberta_internal_load_lag_16  \\\n",
       "0                           NaN                           NaN   \n",
       "1                           NaN                           NaN   \n",
       "2                           NaN                           NaN   \n",
       "3                           NaN                           NaN   \n",
       "4                           NaN                           NaN   \n",
       "\n",
       "   alberta_internal_load_lag_17  alberta_internal_load_lag_18  \\\n",
       "0                           NaN                           NaN   \n",
       "1                           NaN                           NaN   \n",
       "2                           NaN                           NaN   \n",
       "3                           NaN                           NaN   \n",
       "4                           NaN                           NaN   \n",
       "\n",
       "   alberta_internal_load_lag_19  alberta_internal_load_lag_20  \\\n",
       "0                           NaN                           NaN   \n",
       "1                           NaN                           NaN   \n",
       "2                           NaN                           NaN   \n",
       "3                           NaN                           NaN   \n",
       "4                           NaN                           NaN   \n",
       "\n",
       "   alberta_internal_load_lag_21  alberta_internal_load_lag_22  \\\n",
       "0                           NaN                           NaN   \n",
       "1                           NaN                           NaN   \n",
       "2                           NaN                           NaN   \n",
       "3                           NaN                           NaN   \n",
       "4                           NaN                           NaN   \n",
       "\n",
       "   alberta_internal_load_lag_23  alberta_internal_load_lag_24  \n",
       "0                           NaN                           NaN  \n",
       "1                           NaN                           NaN  \n",
       "2                           NaN                           NaN  \n",
       "3                           NaN                           NaN  \n",
       "4                           NaN                           NaN  \n",
       "\n",
       "[5 rows x 67 columns]"
      ]
     },
     "execution_count": 55,
     "metadata": {},
     "output_type": "execute_result"
    }
   ],
   "source": [
    "print(merged_df.shape)\n",
    "print(merged_df.datetime_.min(), merged_df.datetime_.max())\n",
    "merged_df.head()"
   ]
  },
  {
   "cell_type": "code",
   "execution_count": 62,
   "id": "442cd7a7",
   "metadata": {},
   "outputs": [
    {
     "name": "stdout",
     "output_type": "stream",
     "text": [
      "0     56\n",
      "1     54\n",
      "2     52\n",
      "3     50\n",
      "4     48\n",
      "5     46\n",
      "6     44\n",
      "7     42\n",
      "8     40\n",
      "9     38\n",
      "10    36\n",
      "11    34\n",
      "12    32\n",
      "13    30\n",
      "14    28\n",
      "15    26\n",
      "16    24\n",
      "17    22\n",
      "18    20\n",
      "19    18\n",
      "20    16\n",
      "21    14\n",
      "22    12\n",
      "23    10\n",
      "24     0\n",
      "25     0\n",
      "26     0\n",
      "27     0\n",
      "28     0\n",
      "29     0\n",
      "30     0\n",
      "31     0\n",
      "32     0\n",
      "33     0\n",
      "34     0\n",
      "35     0\n",
      "36     0\n",
      "37     0\n",
      "38     0\n",
      "39     0\n",
      "40     0\n",
      "41     0\n",
      "42     0\n",
      "43     0\n",
      "44     0\n",
      "45     2\n",
      "46     3\n",
      "47     4\n",
      "dtype: int64\n"
     ]
    }
   ],
   "source": [
    "print(merged_df.isnull().sum(axis=1))"
   ]
  },
  {
   "cell_type": "code",
   "execution_count": 64,
   "id": "fcc75f6c",
   "metadata": {},
   "outputs": [
    {
     "name": "stdout",
     "output_type": "stream",
     "text": [
      "Filtering data from: 2025-05-22 17:51:17\n"
     ]
    }
   ],
   "source": [
    "# Get the current time in MST\n",
    "# mst_timezone = pytz.timezone('MST')\n",
    "filter_time = datetime.now() # mst_timezone\n",
    "\n",
    "# Convert to string format if needed\n",
    "filter_time_str = filter_time.strftime('%Y-%m-%d %H:%M:%S')\n",
    "print(f\"Filtering data from: {filter_time_str}\")"
   ]
  },
  {
   "cell_type": "code",
   "execution_count": 66,
   "metadata": {},
   "outputs": [
    {
     "data": {
      "text/plain": [
       "24    0\n",
       "25    0\n",
       "26    0\n",
       "27    0\n",
       "28    0\n",
       "29    0\n",
       "30    0\n",
       "31    0\n",
       "32    0\n",
       "33    0\n",
       "34    0\n",
       "35    0\n",
       "36    0\n",
       "37    0\n",
       "38    0\n",
       "39    0\n",
       "40    0\n",
       "41    0\n",
       "42    0\n",
       "43    0\n",
       "44    0\n",
       "45    2\n",
       "46    3\n",
       "47    4\n",
       "dtype: int64"
      ]
     },
     "execution_count": 66,
     "metadata": {},
     "output_type": "execute_result"
    }
   ],
   "source": [
    "merged_df[merged_df['datetime_'] >= filter_time_str].isnull().sum(axis=1)"
   ]
  },
  {
   "cell_type": "code",
   "execution_count": 67,
   "id": "a4e2090a",
   "metadata": {},
   "outputs": [
    {
     "name": "stdout",
     "output_type": "stream",
     "text": [
      "Filtering data from: 2025-05-22 17:52:17\n"
     ]
    },
    {
     "data": {
      "text/plain": [
       "forecast_pool_price             3\n",
       "rolling_30day_avg_price         3\n",
       "pool_price_lag_1                2\n",
       "pool_price_lag_2                1\n",
       "alberta_internal_load_lag_3     0\n",
       "alberta_internal_load_lag_8     0\n",
       "alberta_internal_load_lag_7     0\n",
       "alberta_internal_load_lag_6     0\n",
       "alberta_internal_load_lag_5     0\n",
       "alberta_internal_load_lag_4     0\n",
       "datetime_                       0\n",
       "alberta_internal_load_lag_2     0\n",
       "pool_price_lag_24               0\n",
       "pool_price_lag_23               0\n",
       "pool_price_lag_22               0\n",
       "pool_price_lag_21               0\n",
       "pool_price_lag_20               0\n",
       "alberta_internal_load_lag_1     0\n",
       "alberta_internal_load_lag_10    0\n",
       "alberta_internal_load_lag_9     0\n",
       "pool_price_lag_18               0\n",
       "alberta_internal_load_lag_11    0\n",
       "alberta_internal_load_lag_12    0\n",
       "alberta_internal_load_lag_13    0\n",
       "alberta_internal_load_lag_14    0\n",
       "alberta_internal_load_lag_15    0\n",
       "alberta_internal_load_lag_16    0\n",
       "alberta_internal_load_lag_17    0\n",
       "alberta_internal_load_lag_18    0\n",
       "alberta_internal_load_lag_19    0\n",
       "alberta_internal_load_lag_20    0\n",
       "alberta_internal_load_lag_21    0\n",
       "alberta_internal_load_lag_22    0\n",
       "alberta_internal_load_lag_23    0\n",
       "pool_price_lag_19               0\n",
       "pool_price_lag_15               0\n",
       "pool_price_lag_17               0\n",
       "year                            0\n",
       "solar_generation                0\n",
       "temp_calgary                    0\n",
       "temp_edmonton                   0\n",
       "temp_fortmc                     0\n",
       "wind_generation                 0\n",
       "ws_calgary                      0\n",
       "ws_edmonton                     0\n",
       "ws_fortmc                       0\n",
       "hour_of_day                     0\n",
       "day_of_week                     0\n",
       "day_of_month                    0\n",
       "week_of_month                   0\n",
       "month                           0\n",
       "is_winter                       0\n",
       "pool_price_lag_16               0\n",
       "pool_price_lag_3                0\n",
       "pool_price_lag_4                0\n",
       "pool_price_lag_5                0\n",
       "pool_price_lag_6                0\n",
       "pool_price_lag_7                0\n",
       "pool_price_lag_8                0\n",
       "pool_price_lag_9                0\n",
       "pool_price_lag_10               0\n",
       "pool_price_lag_11               0\n",
       "pool_price_lag_12               0\n",
       "pool_price_lag_13               0\n",
       "pool_price_lag_14               0\n",
       "alberta_internal_load           0\n",
       "alberta_internal_load_lag_24    0\n",
       "dtype: int64"
      ]
     },
     "execution_count": 67,
     "metadata": {},
     "output_type": "execute_result"
    }
   ],
   "source": [
    "# Get the current time in MST\n",
    "# mst_timezone = pytz.timezone('MST')\n",
    "filter_time = datetime.now()#datetime.now(mst_timezone)\n",
    "\n",
    "# Convert to string format if needed\n",
    "filter_time_str = filter_time.strftime('%Y-%m-%d %H:%M:%S')\n",
    "print(f\"Filtering data from: {filter_time_str}\")\n",
    "# Apply the filter\n",
    "merged_df = merged_df[merged_df['datetime_'] >= filter_time_str]\n",
    "\n",
    "merged_df.isnull().sum().sort_values(ascending=False) "
   ]
  },
  {
   "cell_type": "code",
   "execution_count": 68,
   "id": "6aafeb9c",
   "metadata": {},
   "outputs": [
    {
     "name": "stderr",
     "output_type": "stream",
     "text": [
      "/Library/Frameworks/Python.framework/Versions/3.7/lib/python3.7/site-packages/pandas/core/frame.py:4468: SettingWithCopyWarning: \n",
      "A value is trying to be set on a copy of a slice from a DataFrame\n",
      "\n",
      "See the caveats in the documentation: https://pandas.pydata.org/pandas-docs/stable/user_guide/indexing.html#returning-a-view-versus-a-copy\n",
      "  downcast=downcast,\n"
     ]
    }
   ],
   "source": [
    "# forward fill the NA values\n",
    "merged_df.fillna(method='ffill', inplace=True)"
   ]
  },
  {
   "cell_type": "markdown",
   "id": "e05b14f9",
   "metadata": {},
   "source": [
    "#### Save Data"
   ]
  },
  {
   "cell_type": "code",
   "execution_count": 69,
   "id": "b0350824",
   "metadata": {
    "lines_to_next_cell": 3
   },
   "outputs": [],
   "source": [
    "merged_df.to_csv('Jobs/Inferencing/data/raw/merged_df.csv', index=False)"
   ]
  }
 ],
 "metadata": {
  "jupytext": {
   "cell_metadata_filter": "-all",
   "main_language": "python",
   "notebook_metadata_filter": "-all"
  },
  "kernelspec": {
   "display_name": "Python 3",
   "language": "python",
   "name": "python3"
  },
  "language_info": {
   "codemirror_mode": {
    "name": "ipython",
    "version": 3
   },
   "file_extension": ".py",
   "mimetype": "text/x-python",
   "name": "python",
   "nbconvert_exporter": "python",
   "pygments_lexer": "ipython3",
   "version": "3.7.9"
  }
 },
 "nbformat": 4,
 "nbformat_minor": 5
}
