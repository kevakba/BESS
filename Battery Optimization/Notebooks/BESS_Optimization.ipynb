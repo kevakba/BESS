{
 "cells": [
  {
   "cell_type": "markdown",
   "metadata": {},
   "source": [
    "This notebook includes the BESS optimization script using the predicted electricity prices"
   ]
  },
  {
   "cell_type": "code",
   "execution_count": null,
   "metadata": {},
   "outputs": [],
   "source": [
    "#Variables for the market data\n",
    "# Alberta Internal Load (MW)\n",
    "# Predicted pool price / pool price (for backtesting) ($/MWh)\n",
    "# Solar generation (MW)\n",
    "# Wind generation (MW)\n",
    "# Supply cushion (MW) [ supply cushion = AIL - (solar + wind) ]\n",
    "# Supply cushion as a percentage of AIL (%)\n",
    "\n",
    "#Variables for the battery data\n",
    "# Battery generation (MW) [vBattPower]\n",
    "# Battery charging power (MW) [vCharge]\n",
    "# Battery discharging power (MW) [vDischarge]\n",
    "# Battery state of charge (SOC) (%) [vSOC]\n",
    "# Battery charging status (charging-1 or discharging-0) [vChargeStatus]\n",
    "\n",
    "#Constants for the battery data\n",
    "# Battery Max charging power (MW) [max_charge_rate]\n",
    "# Battery Max discharging power (MW) [max_discharge_rate]\n",
    "# Battery initial state of charge (SOC) (%) [init_soc]\n",
    "# Battery minimum state of charge (SOC) (%) [min_soc]\n",
    "# Battery maximum state of charge (SOC) (%) [max_soc]\n",
    "# Battery capacity (MWh) [capacity]\n",
    "# Battery charging efficiency (%) [charge_eff]\n",
    "# Battery discharging efficiency (%) [discharge_eff]\n",
    "\n",
    "#Python version 3.11.2"
   ]
  },
  {
   "cell_type": "code",
   "execution_count": 69,
   "metadata": {},
   "outputs": [],
   "source": [
    "import pandas as pd\n",
    "from datetime import datetime, timedelta\n",
    "import os\n",
    "import numpy as np\n",
    "import timeit\n",
    "from ortools.linear_solver import pywraplp\n",
    "\n",
    "# Set pandas to display all rows and columns\n",
    "pd.set_option('display.max_rows', None)\n",
    "pd.set_option('display.max_columns', None)\n",
    "\n",
    "# Suppress pandas performance warnings\n",
    "import warnings\n",
    "warnings.filterwarnings('ignore', category=pd.errors.PerformanceWarning)"
   ]
  },
  {
   "cell_type": "code",
   "execution_count": 3,
   "metadata": {},
   "outputs": [],
   "source": [
    "# Load the data\n",
    "# df2019 = pd.read_csv('/home/kevin/Downloads/BESS/data/raw/2019/merged_df_2019_cleaned.csv')\n",
    "df2020 = pd.read_csv('D:/Python Projects/git_projects/BESS/data/raw/2020/merged_df_2020_cleaned.csv')\n",
    "df2021 = pd.read_csv('D:/Python Projects/git_projects/BESS/data/raw/2021/merged_df_2021_cleaned.csv')\n",
    "df2022 = pd.read_csv('D:/Python Projects/git_projects/BESS/data/raw/2022/merged_df_2022_cleaned.csv')\n",
    "df2023 = pd.read_csv('D:/Python Projects/git_projects/BESS/data/raw/2023/merged_df_2023_cleaned.csv')\n",
    "df2024 = pd.read_csv('D:/Python Projects/git_projects/BESS/data/raw/2024/merged_df_2024_cleaned.csv')"
   ]
  },
  {
   "cell_type": "code",
   "execution_count": 52,
   "metadata": {},
   "outputs": [],
   "source": [
    "# Concatenate the data\n",
    "# df2019\n",
    "df = pd.concat([df2020, df2021, df2022, df2023, df2024], axis=0, ignore_index=True)"
   ]
  },
  {
   "cell_type": "code",
   "execution_count": 53,
   "metadata": {},
   "outputs": [],
   "source": [
    "#Convert the datetime column to datetime format and sort the dataframe by time\n",
    "df['datetime_'] = pd.to_datetime(df['datetime_'])\n",
    "df.sort_values(by=[\"datetime_\"], inplace=True)"
   ]
  },
  {
   "cell_type": "code",
   "execution_count": 54,
   "metadata": {},
   "outputs": [],
   "source": [
    "#Selecting only the relevant columns and timeframe for the analysis\n",
    "df=df.iloc[-360:-240]\n",
    "df=df[['datetime_', 'pool_price', 'alberta_internal_load', 'wind_generation', 'solar_generation']]\n"
   ]
  },
  {
   "cell_type": "code",
   "execution_count": 55,
   "metadata": {},
   "outputs": [
    {
     "data": {
      "text/html": [
       "<div>\n",
       "<style scoped>\n",
       "    .dataframe tbody tr th:only-of-type {\n",
       "        vertical-align: middle;\n",
       "    }\n",
       "\n",
       "    .dataframe tbody tr th {\n",
       "        vertical-align: top;\n",
       "    }\n",
       "\n",
       "    .dataframe thead th {\n",
       "        text-align: right;\n",
       "    }\n",
       "</style>\n",
       "<table border=\"1\" class=\"dataframe\">\n",
       "  <thead>\n",
       "    <tr style=\"text-align: right;\">\n",
       "      <th></th>\n",
       "      <th>datetime_</th>\n",
       "      <th>pool_price</th>\n",
       "      <th>alberta_internal_load</th>\n",
       "      <th>wind_generation</th>\n",
       "      <th>solar_generation</th>\n",
       "    </tr>\n",
       "  </thead>\n",
       "  <tbody>\n",
       "    <tr>\n",
       "      <th>43502</th>\n",
       "      <td>2024-12-17 00:00:00</td>\n",
       "      <td>37.38</td>\n",
       "      <td>10588.0</td>\n",
       "      <td>391.998671</td>\n",
       "      <td>0.101944</td>\n",
       "    </tr>\n",
       "    <tr>\n",
       "      <th>43503</th>\n",
       "      <td>2024-12-17 01:00:00</td>\n",
       "      <td>29.45</td>\n",
       "      <td>10446.0</td>\n",
       "      <td>523.500052</td>\n",
       "      <td>0.100000</td>\n",
       "    </tr>\n",
       "    <tr>\n",
       "      <th>43504</th>\n",
       "      <td>2024-12-17 02:00:00</td>\n",
       "      <td>24.84</td>\n",
       "      <td>10380.0</td>\n",
       "      <td>641.046490</td>\n",
       "      <td>0.100000</td>\n",
       "    </tr>\n",
       "    <tr>\n",
       "      <th>43505</th>\n",
       "      <td>2024-12-17 03:00:00</td>\n",
       "      <td>23.98</td>\n",
       "      <td>10355.0</td>\n",
       "      <td>712.877795</td>\n",
       "      <td>0.100000</td>\n",
       "    </tr>\n",
       "    <tr>\n",
       "      <th>43506</th>\n",
       "      <td>2024-12-17 04:00:00</td>\n",
       "      <td>24.59</td>\n",
       "      <td>10375.0</td>\n",
       "      <td>624.075838</td>\n",
       "      <td>0.100000</td>\n",
       "    </tr>\n",
       "  </tbody>\n",
       "</table>\n",
       "</div>"
      ],
      "text/plain": [
       "                datetime_  pool_price  alberta_internal_load  wind_generation  \\\n",
       "43502 2024-12-17 00:00:00       37.38                10588.0       391.998671   \n",
       "43503 2024-12-17 01:00:00       29.45                10446.0       523.500052   \n",
       "43504 2024-12-17 02:00:00       24.84                10380.0       641.046490   \n",
       "43505 2024-12-17 03:00:00       23.98                10355.0       712.877795   \n",
       "43506 2024-12-17 04:00:00       24.59                10375.0       624.075838   \n",
       "\n",
       "       solar_generation  \n",
       "43502          0.101944  \n",
       "43503          0.100000  \n",
       "43504          0.100000  \n",
       "43505          0.100000  \n",
       "43506          0.100000  "
      ]
     },
     "execution_count": 55,
     "metadata": {},
     "output_type": "execute_result"
    }
   ],
   "source": [
    "df.head()"
   ]
  },
  {
   "cell_type": "code",
   "execution_count": 56,
   "metadata": {},
   "outputs": [],
   "source": [
    "batt_df = {\n",
    "    \"max_charge_rate\": [9.0],  # Example value in MW\n",
    "    \"max_discharge_rate\": [9.0],  # Example value in MW\n",
    "    \"capacity\": [20.0],  # Example value in MWh\n",
    "    \"charge_eff\": [0.95],  # Example efficiency\n",
    "    \"discharge_eff\": [0.95],  # Example efficiency\n",
    "    \"min_soc\": [0.1],  # Minimum state of charge\n",
    "    \"max_soc\": [0.95],  # Maximum state of charge\n",
    "    \"initial_soc\": [0.5]  # Initial state of charge\n",
    "}\n",
    "\n",
    "grid_df = {\n",
    "    \"max_buy_power\" : [13000], \n",
    "    \"max_sell_power\" : [13000], \n",
    "    \"max_import_power\" : [13000], \n",
    "    \"max_export_power\" : [13000]\n",
    "}\n",
    "\n",
    "battery_df = pd.DataFrame(batt_df)\n",
    "grid_df = pd.DataFrame(grid_df)\n"
   ]
  },
  {
   "cell_type": "code",
   "execution_count": 57,
   "metadata": {},
   "outputs": [],
   "source": [
    "#Creating the datetime index for the market dataframe in \"%Y-%m-%d %H:%M:%S\" format\n",
    "\n",
    "market1DF = df.copy()\n",
    "market1DF.sort_values(by=[\"datetime_\"], inplace=True)\n",
    "market1DF[\"time_string\"] = market1DF.apply(\n",
    "    lambda x: (x[\"datetime_\"] + timedelta(seconds=0.002)).strftime(\"%Y-%m-%d %H:%M:%S\"), axis=1)\n",
    "market1DF.set_index(\"time_string\", inplace=True)\n",
    "marketDF = market1DF"
   ]
  },
  {
   "cell_type": "code",
   "execution_count": 58,
   "metadata": {},
   "outputs": [
    {
     "data": {
      "text/plain": [
       "datetime_                0\n",
       "pool_price               0\n",
       "alberta_internal_load    0\n",
       "wind_generation          0\n",
       "solar_generation         0\n",
       "dtype: int64"
      ]
     },
     "execution_count": 58,
     "metadata": {},
     "output_type": "execute_result"
    }
   ],
   "source": [
    "#Checking for null values in the market dataframe\n",
    "marketDF.isnull().sum()"
   ]
  },
  {
   "cell_type": "code",
   "execution_count": 59,
   "metadata": {},
   "outputs": [],
   "source": [
    "#Converting all the dataframes to dictionaries\n",
    "marketDict = marketDF.to_dict()\n",
    "gridDict = grid_df.to_dict()\n",
    "battDict = battery_df.to_dict()"
   ]
  },
  {
   "cell_type": "code",
   "execution_count": 73,
   "metadata": {},
   "outputs": [],
   "source": [
    "# Calculate time interval\n",
    "timeInterval = marketDF.iloc[1]['datetime_'] - marketDF.iloc[0]['datetime_']"
   ]
  },
  {
   "cell_type": "code",
   "execution_count": 74,
   "metadata": {},
   "outputs": [
    {
     "data": {
      "text/plain": [
       "Timedelta('0 days 01:00:00')"
      ]
     },
     "execution_count": 74,
     "metadata": {},
     "output_type": "execute_result"
    }
   ],
   "source": [
    "timeInterval"
   ]
  },
  {
   "cell_type": "code",
   "execution_count": 62,
   "metadata": {},
   "outputs": [],
   "source": [
    "# Assign the data to the input structure\n",
    "input_data = type(\"input\", (dict,), {})()\n",
    "input_data.update({\n",
    "    \"simData\": {\n",
    "        \"startTime\": datetime.strptime(marketDF.index[0], \"%Y-%m-%d %H:%M:%S\"),\n",
    "        \"dt\": int(round(timeInterval.total_seconds())) / (60 * 60),  # in hours\n",
    "        \"tIndex\": marketDF.shape[0]\n",
    "    },\n",
    "    \"market\": {\n",
    "        key: {sub_key: sub_item for sub_key, sub_item in marketDict[key].items()}\n",
    "        for key in marketDict.keys() if key != \"datetime_\"\n",
    "    },\n",
    "    \"grid\": {key: item[0] for key, item in gridDict.items()},\n",
    "    \"batt\": {key: item[0] for key, item in battDict.items()}\n",
    "})"
   ]
  },
  {
   "cell_type": "code",
   "execution_count": 63,
   "metadata": {},
   "outputs": [],
   "source": [
    "# Create the mip solver with the CBC backend.\n",
    "solver = pywraplp.Solver.CreateSolver(\"CBC\")\n",
    "\n",
    "inf = solver.infinity()\n",
    "\n",
    "tIndex = input_data[\"simData\"][\"tIndex\"] # number of timeslots\n",
    "dt = input_data[\"simData\"][\"dt\"] # time interval in hour\n",
    "\n",
    "# Create datetime array\n",
    "startTime = input_data[\"simData\"][\"startTime\"].strftime(\"%Y-%m-%d %H:%M:%S\")\n",
    "tIndex = input_data[\"simData\"][\"tIndex\"]\n",
    "timestamp = pd.date_range(startTime, periods=tIndex, freq=str(dt * 60) + \"min\")\n",
    "time = [timestamp[i].strftime(\"%Y-%m-%d %H:%M:%S\") for i in range(len(timestamp))]\n",
    "\n",
    "time_s = timeit.default_timer()"
   ]
  },
  {
   "cell_type": "code",
   "execution_count": 64,
   "metadata": {},
   "outputs": [],
   "source": [
    "\n",
    "# Adding timeseries variables\n",
    "vGrid = [solver.NumVar(lb=-inf, ub=inf, name=f\"vGrid_{i}\") for i in range(tIndex)]\n",
    "vBattPower = [solver.NumVar(lb=-inf, ub=inf, name=f\"vBattPower_{i}\") for i in range(tIndex)]\n",
    "vCharge = [solver.NumVar(lb=-inf, ub=0, name=f\"vCharge_{i}\") for i in range(tIndex)]\n",
    "vDischarge = [solver.NumVar(lb=0, ub=inf, name=f\"vDischarge_{i}\") for i in range(tIndex)]\n",
    "vChargeStatus = [solver.BoolVar(name=f\"vChargeStatus_{i}\") for i in range(tIndex)]\n",
    "vSOC = [solver.NumVar(lb=0, ub=1, name=f\"vSOC_{i}\") for i in range(tIndex)]\n",
    "\n",
    "# Adding constraints\n",
    "for i in range(tIndex):\n",
    "    t = time[i]\n",
    "\n",
    "    # Grid constraints\n",
    "    solver.Add(vGrid[i] == input_data[\"market\"][\"alberta_internal_load\"].get(t, 0) - input_data[\"market\"][\"solar_generation\"].get(t, 0) -\n",
    "               input_data[\"market\"][\"wind_generation\"].get(t, 0) - vBattPower[i])  \n",
    "    #solver.Add(vGrid[i] <= input_data[\"grid\"][\"max_buy_power\"])  # Eqn. 2\n",
    "    #solver.Add(vGrid[i] >= -input_data[\"grid\"][\"max_sell_power\"])  # Eqn. 2\n",
    "    #solver.Add(input_data[\"market\"][\"alberta_internal_load\"].get(t, 0) - input_data[\"market\"][\"solar_generation\"].get(t, 0) -\n",
    "    #           input_data[\"market\"][\"wind_generation\"].get(t, 0) - (vDischarge[i] + vCharge[i]) <=\n",
    "    #           input_data[\"grid\"][\"max_import_power\"])  # Eqn. 3\n",
    "    #solver.Add(input_data[\"market\"][\"alberta_internal_load\"].get(t, 0) - input_data[\"market\"][\"solar_generation\"].get(t, 0) -\n",
    "    #           input_data[\"market\"][\"wind_generation\"].get(t, 0) - (vDischarge[i] + vCharge[i]) >=\n",
    "    #           -input_data[\"grid\"][\"max_export_power\"])  # Eqn. 3\n",
    "    # Battery constraints\n",
    "    solver.Add(vBattPower[i] == vCharge[i] + vDischarge[i])  \n",
    "    solver.Add(vCharge[i] >= -input_data[\"batt\"][\"max_charge_rate\"] * vChargeStatus[i]) \n",
    "    solver.Add(vDischarge[i] <= input_data[\"batt\"][\"max_discharge_rate\"] * (1 - vChargeStatus[i]))  \n",
    "    if i == 0:\n",
    "        solver.Add(vSOC[i] == input_data[\"batt\"][\"initial_soc\"] - dt / input_data[\"batt\"][\"capacity\"] *\n",
    "                   (vCharge[i] * (input_data[\"batt\"][\"charge_eff\"]) +\n",
    "                    vDischarge[i] / (input_data[\"batt\"][\"discharge_eff\"])))  \n",
    "    else:\n",
    "        solver.Add(vSOC[i] == vSOC[i-1] - dt / input_data[\"batt\"][\"capacity\"] *\n",
    "                   (vCharge[i] * (input_data[\"batt\"][\"charge_eff\"]) +\n",
    "                    vDischarge[i] / (input_data[\"batt\"][\"discharge_eff\"]))) \n",
    "    solver.Add(vSOC[i] >= input_data[\"batt\"][\"min_soc\"])\n",
    "    solver.Add(vSOC[i] <= input_data[\"batt\"][\"max_soc\"]) \n",
    "\n"
   ]
  },
  {
   "cell_type": "code",
   "execution_count": 65,
   "metadata": {},
   "outputs": [
    {
     "name": "stdout",
     "output_type": "stream",
     "text": [
      "Solver status: 0\n",
      "Solution is found.\n",
      "Number of variables = 720\n",
      "Number of constraints = 840\n",
      "Computation time =  4.3118\n"
     ]
    }
   ],
   "source": [
    "# Adding objective\n",
    "obj = 0\n",
    "#obj += sum(-[vBattPower[i] * input_data[\"market\"][\"pool_price\"][time[i]] * dt for i in range(tIndex)])\n",
    "for i in range(tIndex):\n",
    "    t = time[i]\n",
    "    pool_price = input_data[\"market\"][\"pool_price\"].get(t, 0)\n",
    "    #pool_price = input_data[\"market\"][\"pool_price\"].get(t, 0)  # Use .get() to handle missing keys\n",
    "    obj += vBattPower[i] * pool_price * dt  # Accumulate the objective function\n",
    "solver.Maximize(obj)\n",
    "\n",
    "#\n",
    "\n",
    "status = solver.Solve()\n",
    "print(\"Solver status:\", status)\n",
    "\n",
    "time_e = timeit.default_timer()\n",
    "runTime = round(time_e - time_s, 4)\n",
    "\n",
    "if status == solver.OPTIMAL or status == solver.FEASIBLE:\n",
    "    print(\"Solution is found.\")\n",
    "    print(\"Number of variables =\", solver.NumVariables())\n",
    "    print(\"Number of constraints =\", solver.NumConstraints())\n",
    "    print(\"Computation time = \", runTime)\n",
    "    \n",
    "    # Extracting solution values\n",
    "    \n",
    "    objValue = round(solver.Objective().Value() / 100, 2)\n",
    "    \n",
    "    objValueDF = pd.DataFrame.from_dict({\"obj_value\": objValue}, orient=\"index\", columns=[\"Total P&L of BESS Operation ($)\"])\n",
    "    \n",
    "    result = list(zip([round(input_data[\"market\"][\"pool_price\"].get(time[i], 0), 2) for i in range(tIndex)],\n",
    "                      [round(vGrid[i].solution_value(), 2) for i in range(tIndex)], \n",
    "                      [round(vBattPower[i].solution_value(), 2) for i in range(tIndex)],\n",
    "                      [round(vCharge[i].solution_value(), 2) for i in range(tIndex)],\n",
    "                      [round(vDischarge[i].solution_value(), 2) for i in range(tIndex)],\n",
    "                      [round(vSOC[i].solution_value(), 4) for i in range(tIndex)],\n",
    "                      [int(vChargeStatus[i].solution_value()) for i in range(tIndex)]\n",
    "                      ))\n",
    "    resultDF = pd.DataFrame(result, index=timestamp, columns=[\"pool_price ($/MWh)\",\"Grid Power Flow (MW)\", \"Battery Output (MW)\", \"Charging Power (MW)\", \"Discharging Power (MW)\", \"State-of-charge (SOC)\", \"Charge Status\"])\n",
    "    \n",
    "else:\n",
    "    print(\"Solution cannot be found.\")"
   ]
  },
  {
   "cell_type": "code",
   "execution_count": 66,
   "metadata": {},
   "outputs": [
    {
     "data": {
      "text/plain": [
       "55.66"
      ]
     },
     "execution_count": 66,
     "metadata": {},
     "output_type": "execute_result"
    }
   ],
   "source": [
    "objValue"
   ]
  },
  {
   "cell_type": "code",
   "execution_count": null,
   "metadata": {},
   "outputs": [],
   "source": [
    "resultDF"
   ]
  },
  {
   "cell_type": "code",
   "execution_count": null,
   "metadata": {},
   "outputs": [],
   "source": []
  },
  {
   "cell_type": "code",
   "execution_count": null,
   "metadata": {},
   "outputs": [],
   "source": []
  },
  {
   "cell_type": "markdown",
   "metadata": {},
   "source": [
    "#Implementing Dynamic Programming for the Opitimization task\n",
    "\n",
    "Key improvements and DP-specific features:\n",
    "\n",
    "    SOC Discretization:\n",
    "\n",
    "        Creates a grid of SOC states (default 100 steps)\n",
    "        Handles nonlinear efficiency curves through state transitions\n",
    "\n",
    "    Backward Induction:\n",
    "\n",
    "        Solves recursively from final period backward\n",
    "        Stores optimal actions for each state-time pair\n",
    "\n",
    "    Action Space Exploration:\n",
    "\n",
    "        Evaluates discrete charge/discharge rates within physical limits\n",
    "        Considers efficiency losses during state transitions\n",
    "\n",
    "    Forward Pass:\n",
    "\n",
    "        Reconstructs optimal path using stored policy decisions\n",
    "        Ensures SOC constraints are maintained throughout"
   ]
  },
  {
   "cell_type": "code",
   "execution_count": 77,
   "metadata": {},
   "outputs": [
    {
     "data": {
      "text/html": [
       "<div>\n",
       "<style scoped>\n",
       "    .dataframe tbody tr th:only-of-type {\n",
       "        vertical-align: middle;\n",
       "    }\n",
       "\n",
       "    .dataframe tbody tr th {\n",
       "        vertical-align: top;\n",
       "    }\n",
       "\n",
       "    .dataframe thead th {\n",
       "        text-align: right;\n",
       "    }\n",
       "</style>\n",
       "<table border=\"1\" class=\"dataframe\">\n",
       "  <thead>\n",
       "    <tr style=\"text-align: right;\">\n",
       "      <th></th>\n",
       "      <th>max_charge_rate</th>\n",
       "      <th>max_discharge_rate</th>\n",
       "      <th>capacity</th>\n",
       "      <th>charge_eff</th>\n",
       "      <th>discharge_eff</th>\n",
       "      <th>min_soc</th>\n",
       "      <th>max_soc</th>\n",
       "      <th>initial_soc</th>\n",
       "    </tr>\n",
       "  </thead>\n",
       "  <tbody>\n",
       "    <tr>\n",
       "      <th>0</th>\n",
       "      <td>9.0</td>\n",
       "      <td>9.0</td>\n",
       "      <td>20.0</td>\n",
       "      <td>0.95</td>\n",
       "      <td>0.95</td>\n",
       "      <td>0.1</td>\n",
       "      <td>0.95</td>\n",
       "      <td>0.5</td>\n",
       "    </tr>\n",
       "  </tbody>\n",
       "</table>\n",
       "</div>"
      ],
      "text/plain": [
       "   max_charge_rate  max_discharge_rate  capacity  charge_eff  discharge_eff  \\\n",
       "0              9.0                 9.0      20.0        0.95           0.95   \n",
       "\n",
       "   min_soc  max_soc  initial_soc  \n",
       "0      0.1     0.95          0.5  "
      ]
     },
     "execution_count": 77,
     "metadata": {},
     "output_type": "execute_result"
    }
   ],
   "source": [
    "battery_df.head()"
   ]
  },
  {
   "cell_type": "code",
   "execution_count": null,
   "metadata": {},
   "outputs": [],
   "source": [
    "\n",
    "def optimize_bess_dp(marketDF, battery_df, soc_steps=100):\n",
    "    \"\"\"\n",
    "    Optimize BESS using Dynamic Programming with SOC discretization\n",
    "    \n",
    "    Parameters:\n",
    "        marketDF (DataFrame): Market Data with datetime, pool price, AIL and renewable generation data\n",
    "        battery_df (DataFrame): Battery Data with battery parameters\n",
    "        soc_steps (int): Number of SOC discretization steps\n",
    "        \n",
    "    Returns:\n",
    "        Results Dataframe with optimal actions and SOC trajectory\n",
    "    \"\"\"\n",
    "    \n",
    "    # Time parameters\n",
    "    dt = (marketDF[\"datetime_\"].iloc[1] - marketDF[\"datetime_\"].iloc[0]).total_seconds() / 3600\n",
    "    n_periods = len(marketDF)\n",
    "    \n",
    "    # Price data\n",
    "    prices = marketDF[\"pool_price\"].values\n",
    "    \n",
    "    # SOC discretization\n",
    "    soc_batt = np.linspace(battery_df['min_soc'], battery_df['max_soc'], soc_steps)\n",
    "    soc_step = soc_batt[1] - soc_batt[0]\n",
    "    \n",
    "    # DP Table: value[t, s] = max profit at time t with SOC s\n",
    "    value_table = np.full((n_periods, soc_steps), -np.inf)\n",
    "    policy_table = np.zeros((n_periods, soc_steps))  # Optimal action (MW)\n",
    "    \n",
    "    # Initialize final state values\n",
    "    value_table[-1] = 0  # No value after last period\n",
    "    \n",
    "    # Backward induction\n",
    "    for t in reversed(range(n_periods-1)):\n",
    "        current_price = prices[t]\n",
    "        \n",
    "        for s_idx, current_soc in enumerate(soc_batt):\n",
    "            max_profit = -np.inf\n",
    "            best_action = 0\n",
    "            \n",
    "            # Possible actions (discrete charge/discharge rates)\n",
    "            max_charge = min(\n",
    "                battery_df['max_charge_rate'],\n",
    "                (battery_df['max_soc'] - current_soc) * battery_df['capacity'] / (dt * battery_df['charge_eff'])\n",
    "            )\n",
    "            \n",
    "            max_discharge = min(\n",
    "                battery_df['max_discharge_rate'],\n",
    "                (current_soc - battery_df['min_soc']) * battery_df['capacity'] * dt * battery_df['discharge_eff']\n",
    "            )\n",
    "            \n",
    "            # Action space discretization\n",
    "            actions = np.linspace(-max_charge, max_discharge, 50)\n",
    "            \n",
    "            for action in actions:\n",
    "                if action > 0:  # Discharging\n",
    "                    next_soc = current_soc - (action * dt * battery_df['discharge_eff']) / battery_df['capacity']\n",
    "                    revenue = action * current_price * dt\n",
    "                elif action < 0:  # Charging\n",
    "                    next_soc = current_soc - (action * dt * battery_df['charge_eff']) / battery_df['capacity']\n",
    "                    revenue = action * current_price * dt\n",
    "                else:\n",
    "                    next_soc = current_soc\n",
    "                    revenue = 0\n",
    "                \n",
    "                # Stay within SOC bounds\n",
    "                next_soc = max(min(next_soc, battery_df['max_soc']), battery_df['min_soc'])\n",
    "                \n",
    "                # Find nearest SOC index for next period\n",
    "                next_s_idx = np.abs(soc_batt - next_soc).argmin()\n",
    "                \n",
    "                # Calculate total profit\n",
    "                total_value = revenue + value_table[t+1, next_s_idx]\n",
    "                \n",
    "                if total_value > max_profit:\n",
    "                    max_profit = total_value\n",
    "                    best_action = action\n",
    "            \n",
    "            # Update DP tables\n",
    "            value_table[t, s_idx] = max_profit\n",
    "            policy_table[t, s_idx] = best_action\n",
    "    \n",
    "    # Forward pass to get optimal path\n",
    "    optimal_actions = np.zeros(n_periods)\n",
    "    soc_trajectory = np.zeros(n_periods)\n",
    "    current_soc = battery_df['initial_soc']\n",
    "    \n",
    "    for t in range(n_periods):\n",
    "        current_s_idx = np.abs(soc_batt - current_soc).argmin()\n",
    "        optimal_action = policy_table[t, current_s_idx]\n",
    "        \n",
    "        # Apply action\n",
    "        if optimal_action > 0:  # Discharging\n",
    "            delta_soc = (optimal_action * dt * battery_df['discharge_eff']) / battery_df['capacity']\n",
    "        elif optimal_action < 0:  # Charging\n",
    "            delta_soc = (optimal_action * dt * battery_df['charge_eff']) / battery_df['capacity']\n",
    "        else:\n",
    "            delta_soc = 0\n",
    "            \n",
    "        current_soc -= delta_soc\n",
    "        current_soc = max(min(current_soc, battery_df['max_soc']), battery_df['min_soc'])\n",
    "        \n",
    "        optimal_actions[t] = optimal_action\n",
    "        soc_trajectory[t] = current_soc\n",
    "    \n",
    "    # Create results dataframe\n",
    "    results = pd.DataFrame({\n",
    "        'datetime_': marketDF['datetime_'],\n",
    "        'Pool Price ($/MWh)': prices,\n",
    "        'BESS Action (MW)': optimal_actions,\n",
    "        'SOC': soc_trajectory,\n",
    "        'Charge (MW)': np.where(optimal_actions < 0, -optimal_actions, 0),\n",
    "        'Discharge (MW)': np.where(optimal_actions > 0, optimal_actions, 0)\n",
    "    })\n",
    "    \n",
    "    # Save results\n",
    "    #output_path = os.path.join(output_folder, 'DP_Results.xlsx')\n",
    "    #results.to_excel(output_path, index=False)\n",
    "    #print(f'Results saved to {output_path}')\n",
    "    return results\n",
    "\n"
   ]
  }
 ],
 "metadata": {
  "kernelspec": {
   "display_name": "Python 3",
   "language": "python",
   "name": "python3"
  },
  "language_info": {
   "codemirror_mode": {
    "name": "ipython",
    "version": 3
   },
   "file_extension": ".py",
   "mimetype": "text/x-python",
   "name": "python",
   "nbconvert_exporter": "python",
   "pygments_lexer": "ipython3",
   "version": "3.11.2"
  }
 },
 "nbformat": 4,
 "nbformat_minor": 2
}
