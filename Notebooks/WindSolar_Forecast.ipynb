{
 "cells": [
  {
   "cell_type": "code",
   "execution_count": 1,
   "metadata": {},
   "outputs": [],
   "source": [
    "import os\n",
    "import pandas as pd\n",
    "import requests\n",
    "import time\n",
    "from datetime import datetime"
   ]
  },
  {
   "cell_type": "code",
   "execution_count": null,
   "metadata": {},
   "outputs": [],
   "source": [
    "# AESO Forecasting URL\n",
    "AESO_URL = \"https://www.aeso.ca/grid/grid-planning/forecasting/wind-and-solar-power-forecasting\"\n",
    "Shrt_Wind = \"http://ets.aeso.ca/Market/Reports/Manual/Operations/prodweb_reports/wind_solar_forecast/wind_rpt_shortterm.csv\""
   ]
  },
  {
   "cell_type": "code",
   "execution_count": null,
   "metadata": {},
   "outputs": [],
   "source": [
    "# Folder to store forecast data\n",
    "\n",
    "download_dir = \"D:\\\\Python Projects\\\\git_projects\\\\BESS\\\\data\\\\aeso_forecasts\"\n",
    "os.makedirs(download_dir, exist_ok=True)\n",
    "\n",
    "# 10 minutes frequency for next 12 hours\n",
    "shrt_wind_forecast_file = os.path.join(download_dir, \"wind_rpt_shortterm.csv\")\n",
    "shrt_wind_backup_file = os.path.join(download_dir, \"wind_rpt_shortterm_backup.csv\")\n",
    "shrt_wind_forecast_url = \"http://ets.aeso.ca/Market/Reports/Manual/Operations/prodweb_reports/wind_solar_forecast/wind_rpt_shortterm.csv\"\n",
    "\n",
    "#Hourly frequency for next 7 days\n",
    "longt_wind_forecast_file = os.path.join(download_dir, \"wind_rpt_longterm.csv\")\n",
    "longt_wind_backup_file = os.path.join(download_dir, \"wind_rpt_longterm_backup.csv\")\n",
    "longt_wind_forecast_url = \"http://ets.aeso.ca/Market/Reports/Manual/Operations/prodweb_reports/wind_solar_forecast/wind_rpt_longterm.csv\"\n",
    "\n",
    "# 10 minutes frequency for next 12 hours\n",
    "shrt_solar_forecast_file = os.path.join(download_dir, \"solar_rpt_shortterm.csv\")\n",
    "shrt_solar_backup_file = os.path.join(download_dir, \"solar_rpt_shortterm_backup.csv\")\n",
    "shrt_solar_forecast_url = \"http://ets.aeso.ca/Market/Reports/Manual/Operations/prodweb_reports/wind_solar_forecast/solar_rpt_shortterm.csv\"\n",
    "\n",
    "#Hourly frequency for next 7 days\n",
    "longt_solar_forecast_file = os.path.join(download_dir, \"solar_rpt_longterm.csv\")\n",
    "longt_solar_backup_file = os.path.join(download_dir, \"solar_rpt_longterm_backup.csv\")\n",
    "longt_solar_forecast_url = \"http://ets.aeso.ca/Market/Reports/Manual/Operations/prodweb_reports/wind_solar_forecast/solar_rpt_longterm.csv\""
   ]
  },
  {
   "cell_type": "code",
   "execution_count": 22,
   "metadata": {},
   "outputs": [],
   "source": [
    "#To download the short-term wind forecast csv file\n",
    "def download_csv(url, file_path):\n",
    "    response = requests.get(url)\n",
    "    if response.status_code == 200:\n",
    "        with open(file_path, \"wb\") as file:\n",
    "            file.write(response.content)\n",
    "        print(f\"Downloaded new forecast data at {datetime.now()}\")\n",
    "    else:\n",
    "        print(f\"Failed to download data: {response.status_code}\")"
   ]
  },
  {
   "cell_type": "code",
   "execution_count": 51,
   "metadata": {},
   "outputs": [],
   "source": [
    "#To download the latest forecast file, create the back up of forecast, update the forecast with latest data\n",
    "\n",
    "def update_forecast(forecast_file, backup_file, forecast_url):\n",
    "    if os.path.exists(forecast_file):\n",
    "        backup_df = pd.read_csv(forecast_file, index_col=\"Forecast Transaction Date\")\n",
    "        backup_df.index = pd.to_datetime(backup_df.index)\n",
    "        backup_df.to_csv(backup_file)\n",
    "        print(\"Backup created for existing short-term wind forecast data\")\n",
    "    \n",
    "        download_csv(forecast_url, forecast_file)\n",
    "\n",
    "        backup_df = backup_df.dropna(subset=[\"Actual\"])  # Drop rows where 'Actual' column is NaN\n",
    "        \n",
    "        new_df = pd.read_csv(forecast_file, index_col=\"Forecast Transaction Date\")\n",
    "\n",
    "        new_df.index = pd.to_datetime(new_df.index)\n",
    "\n",
    "        combined_df = pd.concat([backup_df, new_df], axis=0)\n",
    "\n",
    "        combined_df = combined_df.loc[~combined_df.index.duplicated(keep='first')]\n",
    "\n",
    "        \n",
    "        combined_df.to_csv(forecast_file)\n",
    "        print(f\"Updated the short-term wind forecast file at {datetime.now()}\")\n",
    "    else:\n",
    "        download_csv(forecast_url, forecast_file)\n",
    "\n",
    "\n",
    "    "
   ]
  },
  {
   "cell_type": "code",
   "execution_count": null,
   "metadata": {},
   "outputs": [
    {
     "name": "stdout",
     "output_type": "stream",
     "text": [
      "Downloaded new forecast data at 2025-03-07 00:33:56.017500\n"
     ]
    }
   ],
   "source": [
    "#Short-term forecast frequency is 10 minutes, thus those values need to be averaged on hourly basis.\n",
    "\n",
    "update_forecast(shrt_wind_forecast_file, shrt_wind_backup_file, shrt_wind_forecast_url)\n"
   ]
  },
  {
   "cell_type": "code",
   "execution_count": 55,
   "metadata": {},
   "outputs": [
    {
     "name": "stdout",
     "output_type": "stream",
     "text": [
      "Downloaded new forecast data at 2025-03-07 00:33:31.247941\n"
     ]
    }
   ],
   "source": [
    "update_forecast(longt_wind_forecast_file, longt_wind_backup_file, longt_wind_forecast_url)\n"
   ]
  },
  {
   "cell_type": "code",
   "execution_count": null,
   "metadata": {},
   "outputs": [
    {
     "name": "stdout",
     "output_type": "stream",
     "text": [
      "Downloaded new forecast data at 2025-03-07 00:33:58.594243\n"
     ]
    }
   ],
   "source": [
    "#Short-term forecast frequency is 10 minutes, thus those values need to be averaged on hourly basis.\n",
    "\n",
    "update_forecast(shrt_solar_forecast_file, shrt_solar_backup_file, shrt_solar_forecast_url)\n"
   ]
  },
  {
   "cell_type": "code",
   "execution_count": 58,
   "metadata": {},
   "outputs": [
    {
     "name": "stdout",
     "output_type": "stream",
     "text": [
      "Downloaded new forecast data at 2025-03-07 00:34:01.032691\n"
     ]
    }
   ],
   "source": [
    "update_forecast(longt_solar_forecast_file, longt_solar_backup_file, longt_solar_forecast_url)"
   ]
  },
  {
   "cell_type": "markdown",
   "metadata": {},
   "source": [
    "We need to call these functions every hour in Wind_Solar Forecast Inferencing sript"
   ]
  },
  {
   "cell_type": "code",
   "execution_count": null,
   "metadata": {},
   "outputs": [],
   "source": []
  },
  {
   "cell_type": "code",
   "execution_count": null,
   "metadata": {},
   "outputs": [],
   "source": []
  }
 ],
 "metadata": {
  "kernelspec": {
   "display_name": "Python 3",
   "language": "python",
   "name": "python3"
  },
  "language_info": {
   "codemirror_mode": {
    "name": "ipython",
    "version": 3
   },
   "file_extension": ".py",
   "mimetype": "text/x-python",
   "name": "python",
   "nbconvert_exporter": "python",
   "pygments_lexer": "ipython3",
   "version": "3.11.2"
  }
 },
 "nbformat": 4,
 "nbformat_minor": 2
}
