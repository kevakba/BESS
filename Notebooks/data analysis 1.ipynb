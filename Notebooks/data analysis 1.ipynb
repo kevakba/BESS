{
 "cells": [
  {
   "cell_type": "markdown",
   "metadata": {},
   "source": [
    "#### Library"
   ]
  },
  {
   "cell_type": "code",
   "execution_count": 17,
   "metadata": {},
   "outputs": [],
   "source": [
    "import pandas as pd\n",
    "import numpy as np\n",
    "import seaborn as sns\n",
    "import matplotlib.pyplot as plt\n",
    "\n",
    "import warnings\n",
    "\n",
    "warnings.filterwarnings('ignore', category=pd.errors.PerformanceWarning)\n",
    "\n",
    "from xgboost import XGBRegressor\n",
    "import sklearn\n",
    "from sklearn.metrics import mean_squared_error, r2_score"
   ]
  },
  {
   "cell_type": "markdown",
   "metadata": {},
   "source": [
    "#### Data Loading"
   ]
  },
  {
   "cell_type": "code",
   "execution_count": 2,
   "metadata": {},
   "outputs": [],
   "source": [
    "df = pd.read_csv('/home/kevin/Downloads/BESS/data/data_June2024_Dec2024/merged_df_June2024_Dec2024.csv')"
   ]
  },
  {
   "cell_type": "markdown",
   "metadata": {},
   "source": [
    "#### Data Processing"
   ]
  },
  {
   "cell_type": "code",
   "execution_count": 3,
   "metadata": {},
   "outputs": [
    {
     "data": {
      "text/plain": [
       "(5139, 11)"
      ]
     },
     "execution_count": 3,
     "metadata": {},
     "output_type": "execute_result"
    }
   ],
   "source": [
    "df.shape"
   ]
  },
  {
   "cell_type": "code",
   "execution_count": 4,
   "metadata": {},
   "outputs": [
    {
     "data": {
      "text/html": [
       "<div>\n",
       "<style scoped>\n",
       "    .dataframe tbody tr th:only-of-type {\n",
       "        vertical-align: middle;\n",
       "    }\n",
       "\n",
       "    .dataframe tbody tr th {\n",
       "        vertical-align: top;\n",
       "    }\n",
       "\n",
       "    .dataframe thead th {\n",
       "        text-align: right;\n",
       "    }\n",
       "</style>\n",
       "<table border=\"1\" class=\"dataframe\">\n",
       "  <thead>\n",
       "    <tr style=\"text-align: right;\">\n",
       "      <th></th>\n",
       "      <th>datetime_</th>\n",
       "      <th>pool_price</th>\n",
       "      <th>forecast_pool_price</th>\n",
       "      <th>rolling_30day_avg_price</th>\n",
       "      <th>alberta_internal_load</th>\n",
       "      <th>forecast_alberta_internal_load</th>\n",
       "      <th>solar_generation</th>\n",
       "      <th>wind_generation</th>\n",
       "      <th>temp_calgary</th>\n",
       "      <th>temp_edmonton</th>\n",
       "      <th>temp_fortmc</th>\n",
       "    </tr>\n",
       "  </thead>\n",
       "  <tbody>\n",
       "    <tr>\n",
       "      <th>0</th>\n",
       "      <td>2024-06-01 00:00:00</td>\n",
       "      <td>30.83</td>\n",
       "      <td>24.30</td>\n",
       "      <td>35.38</td>\n",
       "      <td>8703</td>\n",
       "      <td>8662</td>\n",
       "      <td>0.0</td>\n",
       "      <td>1017.402785</td>\n",
       "      <td>9.9</td>\n",
       "      <td>4.1</td>\n",
       "      <td>5.9</td>\n",
       "    </tr>\n",
       "    <tr>\n",
       "      <th>1</th>\n",
       "      <td>2024-06-01 01:00:00</td>\n",
       "      <td>20.23</td>\n",
       "      <td>23.25</td>\n",
       "      <td>35.36</td>\n",
       "      <td>8724</td>\n",
       "      <td>8625</td>\n",
       "      <td>0.0</td>\n",
       "      <td>1294.319027</td>\n",
       "      <td>6.5</td>\n",
       "      <td>5.1</td>\n",
       "      <td>5.4</td>\n",
       "    </tr>\n",
       "    <tr>\n",
       "      <th>2</th>\n",
       "      <td>2024-06-01 02:00:00</td>\n",
       "      <td>13.56</td>\n",
       "      <td>18.02</td>\n",
       "      <td>35.34</td>\n",
       "      <td>8657</td>\n",
       "      <td>8649</td>\n",
       "      <td>0.0</td>\n",
       "      <td>1678.965264</td>\n",
       "      <td>5.9</td>\n",
       "      <td>5.7</td>\n",
       "      <td>5.1</td>\n",
       "    </tr>\n",
       "    <tr>\n",
       "      <th>3</th>\n",
       "      <td>2024-06-01 03:00:00</td>\n",
       "      <td>10.53</td>\n",
       "      <td>11.00</td>\n",
       "      <td>35.32</td>\n",
       "      <td>8634</td>\n",
       "      <td>8632</td>\n",
       "      <td>0.0</td>\n",
       "      <td>1959.930783</td>\n",
       "      <td>3.4</td>\n",
       "      <td>5.6</td>\n",
       "      <td>5.4</td>\n",
       "    </tr>\n",
       "    <tr>\n",
       "      <th>4</th>\n",
       "      <td>2024-06-01 04:00:00</td>\n",
       "      <td>12.43</td>\n",
       "      <td>10.09</td>\n",
       "      <td>35.31</td>\n",
       "      <td>8606</td>\n",
       "      <td>8632</td>\n",
       "      <td>0.0</td>\n",
       "      <td>1713.419408</td>\n",
       "      <td>4.2</td>\n",
       "      <td>4.7</td>\n",
       "      <td>4.0</td>\n",
       "    </tr>\n",
       "  </tbody>\n",
       "</table>\n",
       "</div>"
      ],
      "text/plain": [
       "             datetime_  pool_price  forecast_pool_price  \\\n",
       "0  2024-06-01 00:00:00       30.83                24.30   \n",
       "1  2024-06-01 01:00:00       20.23                23.25   \n",
       "2  2024-06-01 02:00:00       13.56                18.02   \n",
       "3  2024-06-01 03:00:00       10.53                11.00   \n",
       "4  2024-06-01 04:00:00       12.43                10.09   \n",
       "\n",
       "   rolling_30day_avg_price  alberta_internal_load  \\\n",
       "0                    35.38                   8703   \n",
       "1                    35.36                   8724   \n",
       "2                    35.34                   8657   \n",
       "3                    35.32                   8634   \n",
       "4                    35.31                   8606   \n",
       "\n",
       "   forecast_alberta_internal_load  solar_generation  wind_generation  \\\n",
       "0                            8662               0.0      1017.402785   \n",
       "1                            8625               0.0      1294.319027   \n",
       "2                            8649               0.0      1678.965264   \n",
       "3                            8632               0.0      1959.930783   \n",
       "4                            8632               0.0      1713.419408   \n",
       "\n",
       "   temp_calgary  temp_edmonton  temp_fortmc  \n",
       "0           9.9            4.1          5.9  \n",
       "1           6.5            5.1          5.4  \n",
       "2           5.9            5.7          5.1  \n",
       "3           3.4            5.6          5.4  \n",
       "4           4.2            4.7          4.0  "
      ]
     },
     "execution_count": 4,
     "metadata": {},
     "output_type": "execute_result"
    }
   ],
   "source": [
    "df.head()"
   ]
  },
  {
   "cell_type": "code",
   "execution_count": 5,
   "metadata": {},
   "outputs": [
    {
     "data": {
      "text/plain": [
       "datetime_                          0\n",
       "pool_price                         0\n",
       "forecast_pool_price                0\n",
       "rolling_30day_avg_price            0\n",
       "alberta_internal_load              0\n",
       "forecast_alberta_internal_load     0\n",
       "solar_generation                  24\n",
       "wind_generation                   24\n",
       "temp_calgary                       7\n",
       "temp_edmonton                     13\n",
       "temp_fortmc                        8\n",
       "dtype: int64"
      ]
     },
     "execution_count": 5,
     "metadata": {},
     "output_type": "execute_result"
    }
   ],
   "source": [
    "df.isnull().sum()"
   ]
  },
  {
   "cell_type": "code",
   "execution_count": null,
   "metadata": {},
   "outputs": [],
   "source": [
    "df['solar_generation'].fillna(df.solar_generation.median(), inplace=True)\n",
    "df['wind_generation'].fillna(df.wind_generation.median(), inplace=True)\n",
    "df['temp_calgary'].fillna(df.temp_calgary.median(), inplace=True)\n",
    "df['temp_edmonton'].fillna(df.temp_edmonton.median(), inplace=True)\n",
    "df['temp_fortmc'].fillna(df.temp_fortmc.median(), inplace=True)"
   ]
  },
  {
   "cell_type": "code",
   "execution_count": 7,
   "metadata": {},
   "outputs": [
    {
     "data": {
      "text/plain": [
       "datetime_                         0\n",
       "pool_price                        0\n",
       "forecast_pool_price               0\n",
       "rolling_30day_avg_price           0\n",
       "alberta_internal_load             0\n",
       "forecast_alberta_internal_load    0\n",
       "solar_generation                  0\n",
       "wind_generation                   0\n",
       "temp_calgary                      0\n",
       "temp_edmonton                     0\n",
       "temp_fortmc                       0\n",
       "dtype: int64"
      ]
     },
     "execution_count": 7,
     "metadata": {},
     "output_type": "execute_result"
    }
   ],
   "source": [
    "df.isnull().sum()"
   ]
  },
  {
   "cell_type": "code",
   "execution_count": 8,
   "metadata": {},
   "outputs": [],
   "source": [
    "# we have 7 months of data\n",
    "\n",
    "# use 6 months of data to train ML model\n",
    "    # independer variable: solar_generation, wind_generation, temp_calgary, temp_edmonton, temp_fortmc\n",
    "    # target variable: pool_price\n",
    "\n",
    "# use 1 month of data to test ML model"
   ]
  },
  {
   "cell_type": "code",
   "execution_count": 13,
   "metadata": {
    "vscode": {
     "languageId": "ruby"
    }
   },
   "outputs": [
    {
     "name": "stdout",
     "output_type": "stream",
     "text": [
      "(4395, 5) (4395,)\n"
     ]
    }
   ],
   "source": [
    "# Convert datetime_ column to datetime type\n",
    "df['datetime_'] = pd.to_datetime(df['datetime_'])\n",
    "\n",
    "# Filter data for the first 6 months\n",
    "train_data = df[df['datetime_'] < '2024-12-01']\n",
    "\n",
    "# Define independent variables (features) and target variable\n",
    "X_train = train_data[['solar_generation', 'wind_generation', 'temp_calgary', 'temp_edmonton', 'temp_fortmc']]\n",
    "y_train = train_data['pool_price']\n",
    "\n",
    "# Display the shapes of the training data\n",
    "print(X_train.shape, y_train.shape)"
   ]
  },
  {
   "cell_type": "code",
   "execution_count": 12,
   "metadata": {},
   "outputs": [
    {
     "name": "stdout",
     "output_type": "stream",
     "text": [
      "XGBRegressor(base_score=None, booster=None, callbacks=None,\n",
      "             colsample_bylevel=None, colsample_bynode=None,\n",
      "             colsample_bytree=None, device=None, early_stopping_rounds=None,\n",
      "             enable_categorical=False, eval_metric=None, feature_types=None,\n",
      "             gamma=None, grow_policy=None, importance_type=None,\n",
      "             interaction_constraints=None, learning_rate=0.1, max_bin=None,\n",
      "             max_cat_threshold=None, max_cat_to_onehot=None,\n",
      "             max_delta_step=None, max_depth=5, max_leaves=None,\n",
      "             min_child_weight=None, missing=nan, monotone_constraints=None,\n",
      "             multi_strategy=None, n_estimators=100, n_jobs=None,\n",
      "             num_parallel_tree=None, random_state=None, ...)\n"
     ]
    }
   ],
   "source": [
    "# Initialize the XGBoost regressor\n",
    "xgb_regressor = XGBRegressor(objective='reg:squarederror', n_estimators=100, learning_rate=0.1, max_depth=5)\n",
    "\n",
    "# Train the model\n",
    "xgb_regressor.fit(X_train, y_train)\n",
    "\n",
    "# Display the model\n",
    "print(xgb_regressor)"
   ]
  },
  {
   "cell_type": "code",
   "execution_count": 14,
   "metadata": {},
   "outputs": [
    {
     "name": "stdout",
     "output_type": "stream",
     "text": [
      "(744, 5) (744,)\n"
     ]
    }
   ],
   "source": [
    "# Filter data for the first 6 months\n",
    "test_data = df[df['datetime_'] >= '2024-12-01']\n",
    "\n",
    "# Define independent variables (features) and target variable\n",
    "X_test = test_data[['solar_generation', 'wind_generation', 'temp_calgary', 'temp_edmonton', 'temp_fortmc']]\n",
    "y_test = test_data['pool_price']\n",
    "\n",
    "# Display the shapes of the training data\n",
    "print(X_test.shape, y_test.shape)"
   ]
  },
  {
   "cell_type": "code",
   "execution_count": 19,
   "metadata": {},
   "outputs": [
    {
     "name": "stdout",
     "output_type": "stream",
     "text": [
      "[36.51424  26.664284 16.57348  ... 36.07465  32.313175 55.596436]\n",
      "Train Mean Squared Error: 2549.14907406528\n",
      "Train R^2 Score: 0.8168865265956317\n"
     ]
    }
   ],
   "source": [
    "# Make predictions on the training data\n",
    "y_train_pred = xgb_regressor.predict(X_train)\n",
    "\n",
    "# Display the predictions\n",
    "print(y_train_pred)\n",
    "# Calculate mean squared error for training data\n",
    "train_mse = mean_squared_error(y_train, y_train_pred)\n",
    "print(f\"Train Mean Squared Error: {train_mse}\")\n",
    "\n",
    "# Calculate R^2 score for training data\n",
    "train_r2 = r2_score(y_train, y_train_pred)\n",
    "print(f\"Train R^2 Score: {train_r2}\")"
   ]
  },
  {
   "cell_type": "code",
   "execution_count": 18,
   "metadata": {},
   "outputs": [
    {
     "name": "stdout",
     "output_type": "stream",
     "text": [
      "Mean Squared Error: 9718.10625784205\n",
      "R^2 Score: -17.512706156549704\n"
     ]
    }
   ],
   "source": [
    "# Make predictions on the test data\n",
    "y_pred = xgb_regressor.predict(X_test)\n",
    "\n",
    "# Calculate mean squared error\n",
    "mse = mean_squared_error(y_test, y_pred)\n",
    "print(f\"Mean Squared Error: {mse}\")\n",
    "\n",
    "# Calculate R^2 score\n",
    "r2 = r2_score(y_test, y_pred)\n",
    "print(f\"R^2 Score: {r2}\")"
   ]
  },
  {
   "cell_type": "code",
   "execution_count": 23,
   "metadata": {},
   "outputs": [
    {
     "data": {
      "image/png": "[encoded data removed]",
      "text/plain": [
       "<Figure size 1000x600 with 1 Axes>"
      ]
     },
     "metadata": {},
     "output_type": "display_data"
    }
   ],
   "source": [
    "# Assuming y_test and y_pred are already defined\n",
    "# Generate values for the y = x line\n",
    "min_val = min(min(y_test), min(y_pred))\n",
    "max_val = max(max(y_test), max(y_pred))\n",
    "line_values = np.linspace(min_val, max_val, 100)\n",
    "\n",
    "# Create the scatter plot\n",
    "plt.figure(figsize=(10, 6))\n",
    "plt.scatter(y_test, y_pred, alpha=0.5, label='Predicted vs Actual')\n",
    "\n",
    "# Plot the y = x line\n",
    "plt.plot(line_values, line_values, color='red', linestyle='--', label='y = x')\n",
    "\n",
    "# Add labels and title\n",
    "plt.xlabel('Actual Pool Price')\n",
    "plt.ylabel('Predicted Pool Price')\n",
    "plt.title('Scatter Plot of Actual vs Predicted Pool Price')\n",
    "\n",
    "# Add a legend\n",
    "plt.legend()\n",
    "\n",
    "# Show the plot\n",
    "plt.show()"
   ]
  },
  {
   "cell_type": "code",
   "execution_count": null,
   "metadata": {},
   "outputs": [],
   "source": []
  },
  {
   "cell_type": "code",
   "execution_count": null,
   "metadata": {},
   "outputs": [],
   "source": []
  }
 ],
 "metadata": {
  "kernelspec": {
   "display_name": ".venv",
   "language": "python",
   "name": "python3"
  },
  "language_info": {
   "codemirror_mode": {
    "name": "ipython",
    "version": 3
   },
   "file_extension": ".py",
   "mimetype": "text/x-python",
   "name": "python",
   "nbconvert_exporter": "python",
   "pygments_lexer": "ipython3",
   "version": "3.12.3"
  }
 },
 "nbformat": 4,
 "nbformat_minor": 2
}
