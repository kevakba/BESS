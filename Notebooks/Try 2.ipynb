{
 "cells": [
  {
   "cell_type": "code",
   "execution_count": 2,
   "metadata": {},
   "outputs": [],
   "source": [
    "import pandas as pd\n",
    "import numpy as np\n",
    "import seaborn as sns\n",
    "import matplotlib.pyplot as plt"
   ]
  },
  {
   "cell_type": "code",
   "execution_count": 16,
   "metadata": {},
   "outputs": [],
   "source": [
    "# Load the JSON data from the specified file\n",
    "input_file = '/home/kevin/Downloads/BESS/data/energy_generation_20240601_20240630.json'\n",
    "df = pd.read_json(input_file)\n",
    "\n",
    "# Initialize an empty DataFrame to store the output\n",
    "out = pd.DataFrame()\n",
    "\n",
    "# Flatten the JSON data using the 'return' column\n",
    "flattened_data = pd.json_normalize(df['return'])\n",
    "\n",
    "# Function to process data for a given fuel type\n",
    "def process_fuel_type(fuel_type):\n",
    "    fuel_data = pd.json_normalize(flattened_data[flattened_data.fuel_type == fuel_type]['Hours']).T\n",
    "    fuel_data.rename(columns={0: 'energy'}, inplace=True)\n",
    "    if 'begin_datetime_mpt' not in out.columns:\n",
    "        out['begin_datetime_mpt'] = fuel_data['energy'].apply(lambda x: x['begin_datetime_mpt'])\n",
    "    out[f'AC_{fuel_type}'] = fuel_data['energy'].apply(lambda x: x['outage_grouping.AC'])\n",
    "\n",
    "# Process data for WIND, SOLAR, and HYDRO fuel types\n",
    "for fuel in ['WIND', 'SOLAR', 'HYDRO']:\n",
    "    process_fuel_type(fuel)\n",
    "\n",
    "# Print the resulting DataFrame\n",
    "# print(out.head())\n",
    "out.to_csv('/home/kevin/Downloads/BESS/data/data_trial/AC.csv')"
   ]
  },
  {
   "cell_type": "code",
   "execution_count": 24,
   "metadata": {},
   "outputs": [
    {
     "name": "stdout",
     "output_type": "stream",
     "text": [
      "  begin_datetime_mpt pool_price forecast_pool_price rolling_30day_avg\n",
      "0   2024-06-01 00:00      30.83               24.30             35.38\n",
      "1   2024-06-01 01:00      20.23               23.25             35.36\n",
      "2   2024-06-01 02:00      13.56               18.02             35.34\n",
      "3   2024-06-01 03:00      10.53               11.00             35.32\n",
      "4   2024-06-01 04:00      12.43               10.09             35.31\n"
     ]
    }
   ],
   "source": [
    "# Load the JSON data from the specified file\n",
    "input_file = '/home/kevin/Downloads/BESS/data/data_June2024_Dec2024/price_01062024_31122024.json'\n",
    "df = pd.read_json(input_file)\n",
    "\n",
    "# Initialize an empty DataFrame to store the output\n",
    "out = pd.DataFrame()\n",
    "\n",
    "# Flatten the JSON data using the 'return' column\n",
    "flattened_data = pd.json_normalize(df['return'])\n",
    "\n",
    "fuel_data = pd.json_normalize(flattened_data).T\n",
    "out['begin_datetime_mpt'] = flattened_data.T[0].apply(lambda x: x['begin_datetime_mpt'])\n",
    "out['pool_price'] = flattened_data.T[0].apply(lambda x: x['pool_price'])\n",
    "out['forecast_pool_price'] = flattened_data.T[0].apply(lambda x: x['forecast_pool_price'])\n",
    "out['rolling_30day_avg'] = flattened_data.T[0].apply(lambda x: x['rolling_30day_avg'])\n",
    "\n",
    "# Print the resulting DataFrame\n",
    "# print(out.head())\n",
    "out.to_csv('/home/kevin/Downloads/BESS/data/data_trial/price.csv')"
   ]
  },
  {
   "cell_type": "code",
   "execution_count": 26,
   "metadata": {},
   "outputs": [],
   "source": [
    "df = pd.read_csv('/Users/kevinakbari/Documents/BESS/data/CSD Generation (Hourly)/CSD Generation (Hourly) - 2024.csv')\n",
    "df.drop(columns=['Unnamed: 0'], inplace=True)"
   ]
  },
  {
   "cell_type": "code",
   "execution_count": 27,
   "metadata": {},
   "outputs": [
    {
     "data": {
      "text/plain": [
       "(1868308, 12)"
      ]
     },
     "execution_count": 27,
     "metadata": {},
     "output_type": "execute_result"
    }
   ],
   "source": [
    "df.shape"
   ]
  },
  {
   "cell_type": "code",
   "execution_count": 28,
   "metadata": {},
   "outputs": [
    {
     "data": {
      "text/html": [
       "<div>\n",
       "<style scoped>\n",
       "    .dataframe tbody tr th:only-of-type {\n",
       "        vertical-align: middle;\n",
       "    }\n",
       "\n",
       "    .dataframe tbody tr th {\n",
       "        vertical-align: top;\n",
       "    }\n",
       "\n",
       "    .dataframe thead th {\n",
       "        text-align: right;\n",
       "    }\n",
       "</style>\n",
       "<table border=\"1\" class=\"dataframe\">\n",
       "  <thead>\n",
       "    <tr style=\"text-align: right;\">\n",
       "      <th></th>\n",
       "      <th>Date (MST)</th>\n",
       "      <th>Date (MPT)</th>\n",
       "      <th>Asset Short Name</th>\n",
       "      <th>Asset Name</th>\n",
       "      <th>Asset Grouping</th>\n",
       "      <th>Volume</th>\n",
       "      <th>Maximum Capability</th>\n",
       "      <th>System Capability</th>\n",
       "      <th>Fuel Type</th>\n",
       "      <th>Sub Fuel Type</th>\n",
       "      <th>Planning Area</th>\n",
       "      <th>Region</th>\n",
       "    </tr>\n",
       "  </thead>\n",
       "  <tbody>\n",
       "    <tr>\n",
       "      <th>0</th>\n",
       "      <td>2024-01-01 00:00:00</td>\n",
       "      <td>2024-01-01 00:00:00</td>\n",
       "      <td>AFG1</td>\n",
       "      <td>AFG1 APF Athabasca</td>\n",
       "      <td>AFG1</td>\n",
       "      <td>73.567562</td>\n",
       "      <td>131.0</td>\n",
       "      <td>67.0</td>\n",
       "      <td>OTHER</td>\n",
       "      <td>Wood/Refuse</td>\n",
       "      <td>27</td>\n",
       "      <td>Northeast</td>\n",
       "    </tr>\n",
       "    <tr>\n",
       "      <th>1</th>\n",
       "      <td>2024-01-01 01:00:00</td>\n",
       "      <td>2024-01-01 01:00:00</td>\n",
       "      <td>AFG1</td>\n",
       "      <td>AFG1 APF Athabasca</td>\n",
       "      <td>AFG1</td>\n",
       "      <td>73.646525</td>\n",
       "      <td>131.0</td>\n",
       "      <td>67.0</td>\n",
       "      <td>OTHER</td>\n",
       "      <td>Wood/Refuse</td>\n",
       "      <td>27</td>\n",
       "      <td>Northeast</td>\n",
       "    </tr>\n",
       "    <tr>\n",
       "      <th>2</th>\n",
       "      <td>2024-01-01 02:00:00</td>\n",
       "      <td>2024-01-01 02:00:00</td>\n",
       "      <td>AFG1</td>\n",
       "      <td>AFG1 APF Athabasca</td>\n",
       "      <td>AFG1</td>\n",
       "      <td>73.326178</td>\n",
       "      <td>131.0</td>\n",
       "      <td>67.0</td>\n",
       "      <td>OTHER</td>\n",
       "      <td>Wood/Refuse</td>\n",
       "      <td>27</td>\n",
       "      <td>Northeast</td>\n",
       "    </tr>\n",
       "    <tr>\n",
       "      <th>3</th>\n",
       "      <td>2024-01-01 03:00:00</td>\n",
       "      <td>2024-01-01 03:00:00</td>\n",
       "      <td>AFG1</td>\n",
       "      <td>AFG1 APF Athabasca</td>\n",
       "      <td>AFG1</td>\n",
       "      <td>73.711054</td>\n",
       "      <td>131.0</td>\n",
       "      <td>67.0</td>\n",
       "      <td>OTHER</td>\n",
       "      <td>Wood/Refuse</td>\n",
       "      <td>27</td>\n",
       "      <td>Northeast</td>\n",
       "    </tr>\n",
       "    <tr>\n",
       "      <th>4</th>\n",
       "      <td>2024-01-01 04:00:00</td>\n",
       "      <td>2024-01-01 04:00:00</td>\n",
       "      <td>AFG1</td>\n",
       "      <td>AFG1 APF Athabasca</td>\n",
       "      <td>AFG1</td>\n",
       "      <td>73.272631</td>\n",
       "      <td>131.0</td>\n",
       "      <td>67.0</td>\n",
       "      <td>OTHER</td>\n",
       "      <td>Wood/Refuse</td>\n",
       "      <td>27</td>\n",
       "      <td>Northeast</td>\n",
       "    </tr>\n",
       "  </tbody>\n",
       "</table>\n",
       "</div>"
      ],
      "text/plain": [
       "            Date (MST)           Date (MPT) Asset Short Name  \\\n",
       "0  2024-01-01 00:00:00  2024-01-01 00:00:00             AFG1   \n",
       "1  2024-01-01 01:00:00  2024-01-01 01:00:00             AFG1   \n",
       "2  2024-01-01 02:00:00  2024-01-01 02:00:00             AFG1   \n",
       "3  2024-01-01 03:00:00  2024-01-01 03:00:00             AFG1   \n",
       "4  2024-01-01 04:00:00  2024-01-01 04:00:00             AFG1   \n",
       "\n",
       "           Asset Name Asset Grouping     Volume  Maximum Capability  \\\n",
       "0  AFG1 APF Athabasca           AFG1  73.567562               131.0   \n",
       "1  AFG1 APF Athabasca           AFG1  73.646525               131.0   \n",
       "2  AFG1 APF Athabasca           AFG1  73.326178               131.0   \n",
       "3  AFG1 APF Athabasca           AFG1  73.711054               131.0   \n",
       "4  AFG1 APF Athabasca           AFG1  73.272631               131.0   \n",
       "\n",
       "   System Capability Fuel Type Sub Fuel Type  Planning Area     Region  \n",
       "0               67.0     OTHER   Wood/Refuse             27  Northeast  \n",
       "1               67.0     OTHER   Wood/Refuse             27  Northeast  \n",
       "2               67.0     OTHER   Wood/Refuse             27  Northeast  \n",
       "3               67.0     OTHER   Wood/Refuse             27  Northeast  \n",
       "4               67.0     OTHER   Wood/Refuse             27  Northeast  "
      ]
     },
     "execution_count": 28,
     "metadata": {},
     "output_type": "execute_result"
    }
   ],
   "source": [
    "df.head()"
   ]
  },
  {
   "cell_type": "code",
   "execution_count": 29,
   "metadata": {},
   "outputs": [
    {
     "data": {
      "text/plain": [
       "array(['OTHER', 'WIND', 'GAS', 'HYDRO', 'SOLAR', 'ENERGY STORAGE', 'COAL',\n",
       "       'DUAL FUEL'], dtype=object)"
      ]
     },
     "execution_count": 29,
     "metadata": {},
     "output_type": "execute_result"
    }
   ],
   "source": [
    "df['Fuel Type'].unique()"
   ]
  },
  {
   "cell_type": "code",
   "execution_count": 32,
   "metadata": {},
   "outputs": [],
   "source": [
    "wind_generation_june_dec_2024 = df[(df['Fuel Type'] == 'WIND') & (df['Date (MPT)']>= '2024-06-01') & (df['Date (MPT)']<= '2024-12-31')]\n",
    "wind_generation_june_dec_2024.to_csv('/Users/kevinakbari/Documents/BESS/data/data_June2024_Dec2024/wind_generation_june_dec_2024.csv')\n",
    "solar_generation_june_dec_2024 = df[(df['Fuel Type'] == 'SOLAR') & (df['Date (MPT)']>= '2024-06-01') & (df['Date (MPT)']<= '2024-12-31')]\n",
    "solar_generation_june_dec_2024.to_csv('/Users/kevinakbari/Documents/BESS/data/data_June2024_Dec2024/solar_generation_june_dec_2024.csv')"
   ]
  }
 ],
 "metadata": {
  "kernelspec": {
   "display_name": "base",
   "language": "python",
   "name": "python3"
  },
  "language_info": {
   "codemirror_mode": {
    "name": "ipython",
    "version": 3
   },
   "file_extension": ".py",
   "mimetype": "text/x-python",
   "name": "python",
   "nbconvert_exporter": "python",
   "pygments_lexer": "ipython3",
   "version": "3.9.12"
  }
 },
 "nbformat": 4,
 "nbformat_minor": 2
}
