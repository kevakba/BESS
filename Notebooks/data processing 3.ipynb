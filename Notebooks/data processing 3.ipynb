{
 "cells": [
  {
   "cell_type": "code",
   "execution_count": 1,
   "metadata": {},
   "outputs": [],
   "source": [
    "import pandas as pd\n",
    "import numpy as np\n",
    "import seaborn as sns\n",
    "import matplotlib.pyplot as plt"
   ]
  },
  {
   "cell_type": "code",
   "execution_count": null,
   "metadata": {},
   "outputs": [],
   "source": [
    " # to be created:\n",
    "   # time based variable: hour_of_day, day_of_week, month (derive from the datatime column, no need to fetch seperately)\n",
    "   # seasonality: May to September is summer, October to April is winter (derive from the datatime column, no need to fetch seperately)\n",
    "   # time series data: pool_price_lagged_values_till_24 hours, AIL_lagged_values_till_24 hours (derive from the dataframe, no need to fetch seperately)\n",
    "\n",
    "# done:\n",
    "   # weather: wind_speed_per_city "
   ]
  },
  {
   "cell_type": "markdown",
   "metadata": {},
   "source": [
    "#### weather: wind_speed_per_city"
   ]
  },
  {
   "cell_type": "code",
   "execution_count": 7,
   "metadata": {},
   "outputs": [
    {
     "name": "stdout",
     "output_type": "stream",
     "text": [
      "        Timestamp_mst  WIND_SPEED\n",
      "0 2024-06-04 00:00:00          16\n",
      "1 2024-06-04 01:00:00          19\n",
      "2 2024-06-04 02:00:00          18\n",
      "3 2024-06-04 03:00:00          15\n",
      "4 2024-06-04 04:00:00          18\n"
     ]
    }
   ],
   "source": [
    "import requests\n",
    "import pandas as pd\n",
    "from datetime import datetime, timezone, timedelta\n",
    "\n",
    "def get_hourly_windspeed(climate_id, start_date, end_date):\n",
    "  url = \"https://api.weather.gc.ca/collections/climate-hourly/items\"\n",
    "  all_temp_data = []\n",
    "  limit = 10000\n",
    "  offset = 0\n",
    "  \n",
    "\n",
    "  while True:\n",
    "    params = {\n",
    "      \"CLIMATE_IDENTIFIER\": climate_id,\n",
    "      \"datetime\": f\"{start_date}/{end_date}\",\n",
    "      \"limit\": limit,\n",
    "      \"offset\": offset,\n",
    "      \"f\": \"json\"\n",
    "    }\n",
    "\n",
    "    try:\n",
    "        response = requests.get(url, params=params)\n",
    "        response.raise_for_status()\n",
    "        data = response.json()\n",
    "\n",
    "        if not data['features']:\n",
    "          break\n",
    "        # for f in data['features']:\n",
    "        #    print(f)\n",
    "        for feature in data['features']:\n",
    "            properties = feature['properties']\n",
    "            all_temp_data.append({\n",
    "                # 'Timestamp_utc': pd.to_datetime(properties['UTC_DATE'], utc=True),\n",
    "                'Timestamp_mst': pd.to_datetime(properties['LOCAL_DATE']),\n",
    "                'WIND_SPEED': properties.get('WIND_SPEED', None)\n",
    "            })\n",
    "          \n",
    "        offset += limit\n",
    "\n",
    "    except requests.exceptions.HTTPError as err:\n",
    "        print(f\"HTTP error occurred: {err}\")\n",
    "        break\n",
    "    except Exception as err:\n",
    "        print(f\"Other error occurred: {err}\")\n",
    "        break\n",
    "  temp_df = pd.DataFrame(all_temp_data)\n",
    "#   print(temp_df.head())\n",
    "  temp_df = temp_df.sort_values(by='Timestamp_mst')\n",
    "\n",
    "  return temp_df\n",
    "  \n",
    "# Example\n",
    "# CALGARY ID : 3031092\n",
    "# EDMONTON ID: 3012205 or 3012206\n",
    "# FORT MC ID: 3062696\n",
    "climate_id = \"3012206\" \n",
    "\n",
    "start_date = \"2024-06-01T00:00:00Z\"\n",
    "\n",
    "end_date = \"2024-12-31T23:00:00Z\"\n",
    "\n",
    "df = get_hourly_windspeed(climate_id, start_date, end_date)\n",
    "# print(df)\n",
    "df.to_csv('/home/kevin/Downloads/BESS/data/data_June2024_Dec2024/windspeed_edmonton_01062024_31122024.csv')\n"
   ]
  }
 ],
 "metadata": {
  "kernelspec": {
   "display_name": ".venv",
   "language": "python",
   "name": "python3"
  },
  "language_info": {
   "codemirror_mode": {
    "name": "ipython",
    "version": 3
   },
   "file_extension": ".py",
   "mimetype": "text/x-python",
   "name": "python",
   "nbconvert_exporter": "python",
   "pygments_lexer": "ipython3",
   "version": "3.12.3"
  }
 },
 "nbformat": 4,
 "nbformat_minor": 2
}
