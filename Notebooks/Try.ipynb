{
 "cells": [
  {
   "cell_type": "code",
   "execution_count": 1,
   "metadata": {},
   "outputs": [],
   "source": [
    "import pandas as pd\n",
    "import numpy as np\n",
    "import seaborn as sns\n",
    "import matplotlib.pyplot as plt"
   ]
  },
  {
   "cell_type": "code",
   "execution_count": 16,
   "metadata": {},
   "outputs": [],
   "source": [
    "# Load the JSON data from the specified file\n",
    "input_file = '/home/kevin/Downloads/BESS/data/energy_generation_20240601_20240630.json'\n",
    "df = pd.read_json(input_file)\n",
    "\n",
    "# Initialize an empty DataFrame to store the output\n",
    "out = pd.DataFrame()\n",
    "\n",
    "# Flatten the JSON data using the 'return' column\n",
    "flattened_data = pd.json_normalize(df['return'])\n",
    "\n",
    "# Function to process data for a given fuel type\n",
    "def process_fuel_type(fuel_type):\n",
    "    fuel_data = pd.json_normalize(flattened_data[flattened_data.fuel_type == fuel_type]['Hours']).T\n",
    "    fuel_data.rename(columns={0: 'energy'}, inplace=True)\n",
    "    if 'begin_datetime_mpt' not in out.columns:\n",
    "        out['begin_datetime_mpt'] = fuel_data['energy'].apply(lambda x: x['begin_datetime_mpt'])\n",
    "    out[f'AC_{fuel_type}'] = fuel_data['energy'].apply(lambda x: x['outage_grouping.AC'])\n",
    "\n",
    "# Process data for WIND, SOLAR, and HYDRO fuel types\n",
    "for fuel in ['WIND', 'SOLAR', 'HYDRO']:\n",
    "    process_fuel_type(fuel)\n",
    "\n",
    "# Print the resulting DataFrame\n",
    "# print(out.head())\n",
    "out.to_csv('/home/kevin/Downloads/BESS/data/data_trial/AC.csv')"
   ]
  },
  {
   "cell_type": "code",
   "execution_count": 24,
   "metadata": {},
   "outputs": [
    {
     "name": "stdout",
     "output_type": "stream",
     "text": [
      "  begin_datetime_mpt pool_price forecast_pool_price rolling_30day_avg\n",
      "0   2024-06-01 00:00      30.83               24.30             35.38\n",
      "1   2024-06-01 01:00      20.23               23.25             35.36\n",
      "2   2024-06-01 02:00      13.56               18.02             35.34\n",
      "3   2024-06-01 03:00      10.53               11.00             35.32\n",
      "4   2024-06-01 04:00      12.43               10.09             35.31\n"
     ]
    }
   ],
   "source": [
    "# Load the JSON data from the specified file\n",
    "input_file = '/home/kevin/Downloads/BESS/data/data_June2024_Dec2024/price_01062024_31122024.json'\n",
    "df = pd.read_json(input_file)\n",
    "\n",
    "# Initialize an empty DataFrame to store the output\n",
    "out = pd.DataFrame()\n",
    "\n",
    "# Flatten the JSON data using the 'return' column\n",
    "flattened_data = pd.json_normalize(df['return'])\n",
    "\n",
    "fuel_data = pd.json_normalize(flattened_data).T\n",
    "out['begin_datetime_mpt'] = flattened_data.T[0].apply(lambda x: x['begin_datetime_mpt'])\n",
    "out['pool_price'] = flattened_data.T[0].apply(lambda x: x['pool_price'])\n",
    "out['forecast_pool_price'] = flattened_data.T[0].apply(lambda x: x['forecast_pool_price'])\n",
    "out['rolling_30day_avg'] = flattened_data.T[0].apply(lambda x: x['rolling_30day_avg'])\n",
    "\n",
    "# Print the resulting DataFrame\n",
    "# print(out.head())\n",
    "out.to_csv('/home/kevin/Downloads/BESS/data/data_trial/price.csv')"
   ]
  },
  {
   "cell_type": "code",
   "execution_count": null,
   "metadata": {},
   "outputs": [],
   "source": []
  }
 ],
 "metadata": {
  "kernelspec": {
   "display_name": ".venv",
   "language": "python",
   "name": "python3"
  },
  "language_info": {
   "codemirror_mode": {
    "name": "ipython",
    "version": 3
   },
   "file_extension": ".py",
   "mimetype": "text/x-python",
   "name": "python",
   "nbconvert_exporter": "python",
   "pygments_lexer": "ipython3",
   "version": "3.12.3"
  }
 },
 "nbformat": 4,
 "nbformat_minor": 2
}
