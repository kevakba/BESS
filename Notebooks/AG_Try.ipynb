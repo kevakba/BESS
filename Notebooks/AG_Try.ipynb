{
 "cells": [
  {
   "cell_type": "code",
   "execution_count": 2,
   "metadata": {},
   "outputs": [
    {
     "name": "stdout",
     "output_type": "stream",
     "text": [
      "HTTP Error 401: Access Denied\n"
     ]
    }
   ],
   "source": [
    "########### Python 3.2 #############\n",
    "import urllib.request, json\n",
    "\n",
    "try:\n",
    "    url = \"https://apimgw.aeso.ca/public/currentsupplydemand-api/v1/csd/generation/assets/current\"\n",
    "\n",
    "    hdr ={\n",
    "    # Request headers\n",
    "    'Cache-Control': 'no-cache',\n",
    "    'API-KEY': '*************',\n",
    "    }\n",
    "\n",
    "    req = urllib.request.Request(url, headers=hdr)\n",
    "\n",
    "    req.get_method = lambda: 'GET'\n",
    "    response = urllib.request.urlopen(req)\n",
    "    print(response.getcode())\n",
    "    print(response.read())\n",
    "except Exception as e:\n",
    "    print(e)\n",
    "####################################"
   ]
  }
 ],
 "metadata": {
  "kernelspec": {
   "display_name": "Python 3",
   "language": "python",
   "name": "python3"
  },
  "language_info": {
   "codemirror_mode": {
    "name": "ipython",
    "version": 3
   },
   "file_extension": ".py",
   "mimetype": "text/x-python",
   "name": "python",
   "nbconvert_exporter": "python",
   "pygments_lexer": "ipython3",
   "version": "3.11.2"
  }
 },
 "nbformat": 4,
 "nbformat_minor": 2
}
