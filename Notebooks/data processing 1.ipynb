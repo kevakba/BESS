{
 "cells": [
  {
   "cell_type": "markdown",
   "metadata": {},
   "source": [
    "#### Library"
   ]
  },
  {
   "cell_type": "code",
   "execution_count": 3,
   "metadata": {},
   "outputs": [],
   "source": [
    "import pandas as pd\n",
    "import numpy as np\n",
    "import seaborn as sns\n",
    "import matplotlib.pyplot as plt"
   ]
  },
  {
   "cell_type": "markdown",
   "metadata": {},
   "source": [
    "#### Capacity"
   ]
  },
  {
   "cell_type": "code",
   "execution_count": 16,
   "metadata": {},
   "outputs": [],
   "source": [
    "# Load the JSON data from the specified file\n",
    "input_file = '/home/kevin/Downloads/BESS/data/energy_generation_20240601_20240630.json'\n",
    "df = pd.read_json(input_file)\n",
    "\n",
    "# Initialize an empty DataFrame to store the output\n",
    "out = pd.DataFrame()\n",
    "\n",
    "# Flatten the JSON data using the 'return' column\n",
    "flattened_data = pd.json_normalize(df['return'])\n",
    "\n",
    "# Function to process data for a given fuel type\n",
    "def process_fuel_type(fuel_type):\n",
    "    fuel_data = pd.json_normalize(flattened_data[flattened_data.fuel_type == fuel_type]['Hours']).T\n",
    "    fuel_data.rename(columns={0: 'energy'}, inplace=True)\n",
    "    if 'begin_datetime_mpt' not in out.columns:\n",
    "        out['begin_datetime_mpt'] = fuel_data['energy'].apply(lambda x: x['begin_datetime_mpt'])\n",
    "    out[f'AC_{fuel_type}'] = fuel_data['energy'].apply(lambda x: x['outage_grouping.AC'])\n",
    "\n",
    "# Process data for WIND, SOLAR, and HYDRO fuel types\n",
    "for fuel in ['WIND', 'SOLAR', 'HYDRO']:\n",
    "    process_fuel_type(fuel)\n",
    "\n",
    "# Print the resulting DataFrame\n",
    "# print(out.head())\n",
    "out.to_csv('/home/kevin/Downloads/BESS/data/data_trial/AC.csv')"
   ]
  },
  {
   "cell_type": "markdown",
   "metadata": {},
   "source": [
    "#### Generation"
   ]
  },
  {
   "cell_type": "code",
   "execution_count": 23,
   "metadata": {},
   "outputs": [],
   "source": [
    "d1 = pd.read_csv('/home/kevin/Downloads/BESS/data/data_trial/CSD Generation (Hourly)/CSD Generation (Hourly) - 2024-01 to 2024-06.csv')\n",
    "d2 = pd.read_csv('/home/kevin/Downloads/BESS/data/data_trial/CSD Generation (Hourly)/CSD Generation (Hourly) - 2024-07.csv')\n",
    "d3 = pd.read_csv('/home/kevin/Downloads/BESS/data/data_trial/CSD Generation (Hourly)/CSD Generation (Hourly) - 2024-08.csv')\n",
    "d4 = pd.read_csv('/home/kevin/Downloads/BESS/data/data_trial/CSD Generation (Hourly)/CSD Generation (Hourly) - 2024-09.csv')\n",
    "d5 = pd.read_csv('/home/kevin/Downloads/BESS/data/data_trial/CSD Generation (Hourly)/CSD Generation (Hourly) - 2024-10.csv')\n",
    "d6 = pd.read_csv('/home/kevin/Downloads/BESS/data/data_trial/CSD Generation (Hourly)/CSD Generation (Hourly) - 2024-11.csv')\n",
    "d7 = pd.read_csv('/home/kevin/Downloads/BESS/data/data_trial/CSD Generation (Hourly)/CSD Generation (Hourly) - 2024-12.csv')"
   ]
  },
  {
   "cell_type": "code",
   "execution_count": 24,
   "metadata": {},
   "outputs": [
    {
     "name": "stdout",
     "output_type": "stream",
     "text": [
      "(916350, 12)\n",
      "(156720, 12)\n",
      "(157726, 12)\n",
      "(153960, 12)\n",
      "(161280, 12)\n",
      "(157800, 12)\n",
      "(164472, 12)\n"
     ]
    }
   ],
   "source": [
    "print(d1.shape)\n",
    "print(d2.shape)\n",
    "print(d3.shape)\n",
    "print(d4.shape)\n",
    "print(d5.shape)\n",
    "print(d6.shape)\n",
    "print(d7.shape)"
   ]
  },
  {
   "cell_type": "code",
   "execution_count": 27,
   "metadata": {},
   "outputs": [],
   "source": [
    "df = pd.concat([d1, d2, d3, d4, d5, d6, d7], axis=0)\n",
    "wind_generation_2024 = df[(df['Fuel Type'] == 'WIND')]\n",
    "solar_generation_2024 = df[(df['Fuel Type'] == 'SOLAR')]"
   ]
  },
  {
   "cell_type": "code",
   "execution_count": 28,
   "metadata": {},
   "outputs": [],
   "source": [
    "wind_generation_2024 = wind_generation_2024.groupby('Date (MPT)')['Volume'].sum().reset_index()\n",
    "wind_generation_2024.sort_values(by='Date (MPT)', inplace=True)\n",
    "wind_generation_2024.to_csv('/home/kevin/Downloads/BESS/data/raw/wind_generation_2024.csv')"
   ]
  },
  {
   "cell_type": "code",
   "execution_count": 29,
   "metadata": {},
   "outputs": [],
   "source": [
    "solar_generation_2024 = solar_generation_2024.groupby('Date (MPT)')['Volume'].sum().reset_index()\n",
    "solar_generation_2024.sort_values(by='Date (MPT)', inplace=True)\n",
    "solar_generation_2024.to_csv('/home/kevin/Downloads/BESS/data/raw/solar_generation_2024.csv')"
   ]
  },
  {
   "cell_type": "markdown",
   "metadata": {},
   "source": [
    "#### AIL"
   ]
  },
  {
   "cell_type": "code",
   "execution_count": 16,
   "metadata": {},
   "outputs": [],
   "source": [
    "# Load the JSON data from the specified file\n",
    "input_file = '/home/kevin/Downloads/BESS/data/data_June2024_Dec2024/AIL_01062024_31122024.json'\n",
    "df = pd.read_json(input_file)\n",
    "\n",
    "# Initialize an empty DataFrame to store the output\n",
    "out = pd.DataFrame()\n",
    "\n",
    "# Flatten the JSON data using the 'return' column\n",
    "flattened_data = pd.json_normalize(df['return'])\n",
    "flattened_data = flattened_data.T\n",
    "out['begin_datetime_mpt'] = flattened_data[0].apply(lambda x: x['begin_datetime_mpt'])\n",
    "out['alberta_internal_load'] = flattened_data[0].apply(lambda x: x['alberta_internal_load'])\n",
    "out['forecast_alberta_internal_load'] = flattened_data[0].apply(lambda x: x['forecast_alberta_internal_load'])\n",
    "\n",
    "out.to_csv('/home/kevin/Downloads/BESS/data/data_June2024_Dec2024/AIL_01062024_31122024.csv')"
   ]
  },
  {
   "cell_type": "markdown",
   "metadata": {},
   "source": [
    "#### Price"
   ]
  },
  {
   "cell_type": "code",
   "execution_count": 21,
   "metadata": {},
   "outputs": [],
   "source": [
    "# Load the JSON data from the specified file\n",
    "input_file = '/home/kevin/Downloads/BESS/data/data_June2024_Dec2024/price_01062024_31122024.json'\n",
    "df = pd.read_json(input_file)\n",
    "\n",
    "# Initialize an empty DataFrame to store the output\n",
    "out = pd.DataFrame()\n",
    "\n",
    "# Flatten the JSON data using the 'return' column\n",
    "flattened_data = pd.json_normalize(df['return'])\n",
    "flattened_data = flattened_data.T\n",
    "out['begin_datetime_mpt'] = flattened_data[0].apply(lambda x: x['begin_datetime_mpt'])\n",
    "out['pool_price'] = flattened_data[0].apply(lambda x: x['pool_price'])\n",
    "out['forecast_pool_price'] = flattened_data[0].apply(lambda x: x['forecast_pool_price'])\n",
    "out['rolling_30day_avg'] = flattened_data[0].apply(lambda x: x['rolling_30day_avg'])\n",
    "\n",
    "out.to_csv('/home/kevin/Downloads/BESS/data/data_June2024_Dec2024/price_01062024_31122024.csv')"
   ]
  },
  {
   "cell_type": "markdown",
   "metadata": {},
   "source": [
    "#### weather: wind_speed_per_city"
   ]
  },
  {
   "cell_type": "markdown",
   "metadata": {},
   "source": [
    "import requests\n",
    "import pandas as pd\n",
    "from datetime import datetime, timezone, timedelta\n",
    "\n",
    "def get_hourly_windspeed(climate_id, start_date, end_date):\n",
    "  url = \"https://api.weather.gc.ca/collections/climate-hourly/items\"\n",
    "  all_temp_data = []\n",
    "  limit = 10000\n",
    "  offset = 0\n",
    "  \n",
    "\n",
    "  while True:\n",
    "    params = {\n",
    "      \"CLIMATE_IDENTIFIER\": climate_id,\n",
    "      \"datetime\": f\"{start_date}/{end_date}\",\n",
    "      \"limit\": limit,\n",
    "      \"offset\": offset,\n",
    "      \"f\": \"json\"\n",
    "    }\n",
    "\n",
    "    try:\n",
    "        response = requests.get(url, params=params)\n",
    "        response.raise_for_status()\n",
    "        data = response.json()\n",
    "\n",
    "        if not data['features']:\n",
    "          break\n",
    "        # for f in data['features']:\n",
    "        #    print(f)\n",
    "        for feature in data['features']:\n",
    "            properties = feature['properties']\n",
    "            all_temp_data.append({\n",
    "                # 'Timestamp_utc': pd.to_datetime(properties['UTC_DATE'], utc=True),\n",
    "                'Timestamp_mst': pd.to_datetime(properties['LOCAL_DATE']),\n",
    "                'WIND_SPEED': properties.get('WIND_SPEED', None)\n",
    "            })\n",
    "          \n",
    "        offset += limit\n",
    "\n",
    "    except requests.exceptions.HTTPError as err:\n",
    "        print(f\"HTTP error occurred: {err}\")\n",
    "        break\n",
    "    except Exception as err:\n",
    "        print(f\"Other error occurred: {err}\")\n",
    "        break\n",
    "  temp_df = pd.DataFrame(all_temp_data)\n",
    "#   print(temp_df.head())\n",
    "  temp_df = temp_df.sort_values(by='Timestamp_mst')\n",
    "\n",
    "  return temp_df\n",
    "  \n",
    "# Example\n",
    "# CALGARY ID : 3031092\n",
    "# EDMONTON ID: 3012205 or 3012206\n",
    "# FORT MC ID: 3062696\n",
    "climate_id = \"3012206\" \n",
    "\n",
    "start_date = \"2024-06-01T00:00:00Z\"\n",
    "\n",
    "end_date = \"2024-12-31T23:00:00Z\"\n",
    "\n",
    "df = get_hourly_windspeed(climate_id, start_date, end_date)\n",
    "# print(df)\n",
    "df.to_csv('/home/kevin/Downloads/BESS/data/data_June2024_Dec2024/windspeed_edmonton_01062024_31122024.csv')\n"
   ]
  }
 ],
 "metadata": {
  "kernelspec": {
   "display_name": ".venv",
   "language": "python",
   "name": "python3"
  },
  "language_info": {
   "codemirror_mode": {
    "name": "ipython",
    "version": 3
   },
   "file_extension": ".py",
   "mimetype": "text/x-python",
   "name": "python",
   "nbconvert_exporter": "python",
   "pygments_lexer": "ipython3",
   "version": "3.12.3"
  }
 },
 "nbformat": 4,
 "nbformat_minor": 2
}
