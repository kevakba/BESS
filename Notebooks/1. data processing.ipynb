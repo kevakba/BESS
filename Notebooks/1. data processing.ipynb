{
 "cells": [
  {
   "cell_type": "markdown",
   "metadata": {},
   "source": [
    "#### Library"
   ]
  },
  {
   "cell_type": "code",
   "execution_count": 3,
   "metadata": {},
   "outputs": [],
   "source": [
    "import pandas as pd\n",
    "import numpy as np\n",
    "import seaborn as sns\n",
    "import matplotlib.pyplot as plt"
   ]
  },
  {
   "cell_type": "markdown",
   "metadata": {},
   "source": [
    "#### Generation"
   ]
  },
  {
   "cell_type": "code",
   "execution_count": 23,
   "metadata": {},
   "outputs": [],
   "source": [
    "d1 = pd.read_csv('/home/kevin/Downloads/BESS/data/data_trial/CSD Generation (Hourly)/CSD Generation (Hourly) - 2024-01 to 2024-06.csv')\n",
    "d2 = pd.read_csv('/home/kevin/Downloads/BESS/data/data_trial/CSD Generation (Hourly)/CSD Generation (Hourly) - 2024-07.csv')\n",
    "d3 = pd.read_csv('/home/kevin/Downloads/BESS/data/data_trial/CSD Generation (Hourly)/CSD Generation (Hourly) - 2024-08.csv')\n",
    "d4 = pd.read_csv('/home/kevin/Downloads/BESS/data/data_trial/CSD Generation (Hourly)/CSD Generation (Hourly) - 2024-09.csv')\n",
    "d5 = pd.read_csv('/home/kevin/Downloads/BESS/data/data_trial/CSD Generation (Hourly)/CSD Generation (Hourly) - 2024-10.csv')\n",
    "d6 = pd.read_csv('/home/kevin/Downloads/BESS/data/data_trial/CSD Generation (Hourly)/CSD Generation (Hourly) - 2024-11.csv')\n",
    "d7 = pd.read_csv('/home/kevin/Downloads/BESS/data/data_trial/CSD Generation (Hourly)/CSD Generation (Hourly) - 2024-12.csv')"
   ]
  },
  {
   "cell_type": "code",
   "execution_count": 24,
   "metadata": {},
   "outputs": [
    {
     "name": "stdout",
     "output_type": "stream",
     "text": [
      "(916350, 12)\n",
      "(156720, 12)\n",
      "(157726, 12)\n",
      "(153960, 12)\n",
      "(161280, 12)\n",
      "(157800, 12)\n",
      "(164472, 12)\n"
     ]
    }
   ],
   "source": [
    "print(d1.shape)\n",
    "print(d2.shape)\n",
    "print(d3.shape)\n",
    "print(d4.shape)\n",
    "print(d5.shape)\n",
    "print(d6.shape)\n",
    "print(d7.shape)"
   ]
  },
  {
   "cell_type": "code",
   "execution_count": 27,
   "metadata": {},
   "outputs": [],
   "source": [
    "df = pd.concat([d1, d2, d3, d4, d5, d6, d7], axis=0)\n",
    "wind_generation_2024 = df[(df['Fuel Type'] == 'WIND')]\n",
    "solar_generation_2024 = df[(df['Fuel Type'] == 'SOLAR')]"
   ]
  },
  {
   "cell_type": "code",
   "execution_count": 28,
   "metadata": {},
   "outputs": [],
   "source": [
    "wind_generation_2024 = wind_generation_2024.groupby('Date (MPT)')['Volume'].sum().reset_index()\n",
    "wind_generation_2024.sort_values(by='Date (MPT)', inplace=True)\n",
    "wind_generation_2024.to_csv('/home/kevin/Downloads/BESS/data/raw/wind_generation_2024.csv')"
   ]
  },
  {
   "cell_type": "code",
   "execution_count": 29,
   "metadata": {},
   "outputs": [],
   "source": [
    "solar_generation_2024 = solar_generation_2024.groupby('Date (MPT)')['Volume'].sum().reset_index()\n",
    "solar_generation_2024.sort_values(by='Date (MPT)', inplace=True)\n",
    "solar_generation_2024.to_csv('/home/kevin/Downloads/BESS/data/raw/solar_generation_2024.csv')"
   ]
  }
 ],
 "metadata": {
  "kernelspec": {
   "display_name": ".venv",
   "language": "python",
   "name": "python3"
  },
  "language_info": {
   "codemirror_mode": {
    "name": "ipython",
    "version": 3
   },
   "file_extension": ".py",
   "mimetype": "text/x-python",
   "name": "python",
   "nbconvert_exporter": "python",
   "pygments_lexer": "ipython3",
   "version": "3.12.3"
  }
 },
 "nbformat": 4,
 "nbformat_minor": 2
}
